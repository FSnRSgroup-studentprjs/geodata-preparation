{
 "cells": [
  {
   "cell_type": "code",
   "execution_count": 74,
   "id": "fbc25c78",
   "metadata": {},
   "outputs": [],
   "source": [
    "import pandas as pd\n",
    "import numpy as np\n",
    "import geopandas as gpd"
   ]
  },
  {
   "cell_type": "markdown",
   "id": "41b22f6d",
   "metadata": {},
   "source": [
    "# checking market price and location data with gaul"
   ]
  },
  {
   "cell_type": "code",
   "execution_count": 2,
   "id": "501d61d4",
   "metadata": {},
   "outputs": [],
   "source": [
    "df = pd.read_csv('match_price_loc.csv')\n"
   ]
  },
  {
   "cell_type": "code",
   "execution_count": 3,
   "id": "a7764474",
   "metadata": {},
   "outputs": [
    {
     "data": {
      "text/plain": [
       "0          Hydra\n",
       "1          Hydra\n",
       "2          Hydra\n",
       "3          Hydra\n",
       "4          Hydra\n",
       "           ...  \n",
       "942259    Kalabo\n",
       "942260    Kalabo\n",
       "942261    Kalabo\n",
       "942262    Kalabo\n",
       "942263    Kalabo\n",
       "Name: adm2_name, Length: 942264, dtype: object"
      ]
     },
     "execution_count": 3,
     "metadata": {},
     "output_type": "execute_result"
    }
   ],
   "source": [
    "df.rename(columns = {'admin2':'adm2_name' }, inplace= True)\n",
    "df['adm2_name']"
   ]
  },
  {
   "cell_type": "code",
   "execution_count": 4,
   "id": "839feb78",
   "metadata": {},
   "outputs": [],
   "source": [
    "country_price = df.adm0_name.unique()"
   ]
  },
  {
   "cell_type": "code",
   "execution_count": 75,
   "id": "b1ff411e",
   "metadata": {},
   "outputs": [],
   "source": [
    "df2 = gpd.read_file('gaul2015-2014_adm2.shp')"
   ]
  },
  {
   "cell_type": "code",
   "execution_count": 76,
   "id": "fd1a0699",
   "metadata": {},
   "outputs": [
    {
     "data": {
      "text/html": [
       "<div>\n",
       "<style scoped>\n",
       "    .dataframe tbody tr th:only-of-type {\n",
       "        vertical-align: middle;\n",
       "    }\n",
       "\n",
       "    .dataframe tbody tr th {\n",
       "        vertical-align: top;\n",
       "    }\n",
       "\n",
       "    .dataframe thead th {\n",
       "        text-align: right;\n",
       "    }\n",
       "</style>\n",
       "<table border=\"1\" class=\"dataframe\">\n",
       "  <thead>\n",
       "    <tr style=\"text-align: right;\">\n",
       "      <th></th>\n",
       "      <th>adm2_code</th>\n",
       "      <th>adm2_name</th>\n",
       "      <th>str2_year</th>\n",
       "      <th>exp2_year</th>\n",
       "      <th>adm1_code</th>\n",
       "      <th>adm1_name</th>\n",
       "      <th>status</th>\n",
       "      <th>disp_area</th>\n",
       "      <th>adm0_code</th>\n",
       "      <th>adm0_name</th>\n",
       "      <th>shape_leng</th>\n",
       "      <th>shape_area</th>\n",
       "      <th>FID</th>\n",
       "      <th>geometry</th>\n",
       "    </tr>\n",
       "  </thead>\n",
       "  <tbody>\n",
       "    <tr>\n",
       "      <th>0</th>\n",
       "      <td>40621.0</td>\n",
       "      <td>Ryansoro</td>\n",
       "      <td>NaN</td>\n",
       "      <td>None</td>\n",
       "      <td>40548.0</td>\n",
       "      <td>Gitega</td>\n",
       "      <td>Member State</td>\n",
       "      <td>NO</td>\n",
       "      <td>43.0</td>\n",
       "      <td>Burundi</td>\n",
       "      <td>0.754714</td>\n",
       "      <td>0.013313</td>\n",
       "      <td>0</td>\n",
       "      <td>POLYGON ((29.79610 -3.62670, 29.79520 -3.63290...</td>\n",
       "    </tr>\n",
       "    <tr>\n",
       "      <th>1</th>\n",
       "      <td>40667.0</td>\n",
       "      <td>Ndava</td>\n",
       "      <td>NaN</td>\n",
       "      <td>None</td>\n",
       "      <td>40555.0</td>\n",
       "      <td>Mwaro</td>\n",
       "      <td>Member State</td>\n",
       "      <td>NO</td>\n",
       "      <td>43.0</td>\n",
       "      <td>Burundi</td>\n",
       "      <td>0.721689</td>\n",
       "      <td>0.013685</td>\n",
       "      <td>1</td>\n",
       "      <td>POLYGON ((29.82560 -3.36660, 29.82510 -3.36980...</td>\n",
       "    </tr>\n",
       "    <tr>\n",
       "      <th>2</th>\n",
       "      <td>40593.0</td>\n",
       "      <td>Buyengero</td>\n",
       "      <td>NaN</td>\n",
       "      <td>None</td>\n",
       "      <td>40545.0</td>\n",
       "      <td>Bururi</td>\n",
       "      <td>Member State</td>\n",
       "      <td>NO</td>\n",
       "      <td>43.0</td>\n",
       "      <td>Burundi</td>\n",
       "      <td>0.744050</td>\n",
       "      <td>0.016753</td>\n",
       "      <td>2</td>\n",
       "      <td>POLYGON ((29.60730 -3.78270, 29.60390 -3.78900...</td>\n",
       "    </tr>\n",
       "    <tr>\n",
       "      <th>3</th>\n",
       "      <td>40580.0</td>\n",
       "      <td>Bugarama</td>\n",
       "      <td>2004.0</td>\n",
       "      <td>None</td>\n",
       "      <td>40544.0</td>\n",
       "      <td>Bujumbura Rural</td>\n",
       "      <td>Member State</td>\n",
       "      <td>NO</td>\n",
       "      <td>43.0</td>\n",
       "      <td>Burundi</td>\n",
       "      <td>0.622149</td>\n",
       "      <td>0.010563</td>\n",
       "      <td>3</td>\n",
       "      <td>POLYGON ((29.49640 -3.66300, 29.49790 -3.66420...</td>\n",
       "    </tr>\n",
       "    <tr>\n",
       "      <th>4</th>\n",
       "      <td>40590.0</td>\n",
       "      <td>Administrative unit not available</td>\n",
       "      <td>NaN</td>\n",
       "      <td>None</td>\n",
       "      <td>40545.0</td>\n",
       "      <td>Bururi</td>\n",
       "      <td>Member State</td>\n",
       "      <td>NO</td>\n",
       "      <td>43.0</td>\n",
       "      <td>Burundi</td>\n",
       "      <td>1.383936</td>\n",
       "      <td>0.062333</td>\n",
       "      <td>4</td>\n",
       "      <td>POLYGON ((29.53690 -4.19130, 29.53700 -4.19170...</td>\n",
       "    </tr>\n",
       "  </tbody>\n",
       "</table>\n",
       "</div>"
      ],
      "text/plain": [
       "   adm2_code                          adm2_name  str2_year exp2_year  \\\n",
       "0    40621.0                           Ryansoro        NaN      None   \n",
       "1    40667.0                              Ndava        NaN      None   \n",
       "2    40593.0                          Buyengero        NaN      None   \n",
       "3    40580.0                           Bugarama     2004.0      None   \n",
       "4    40590.0  Administrative unit not available        NaN      None   \n",
       "\n",
       "   adm1_code        adm1_name        status disp_area  adm0_code adm0_name  \\\n",
       "0    40548.0           Gitega  Member State        NO       43.0   Burundi   \n",
       "1    40555.0            Mwaro  Member State        NO       43.0   Burundi   \n",
       "2    40545.0           Bururi  Member State        NO       43.0   Burundi   \n",
       "3    40544.0  Bujumbura Rural  Member State        NO       43.0   Burundi   \n",
       "4    40545.0           Bururi  Member State        NO       43.0   Burundi   \n",
       "\n",
       "   shape_leng  shape_area  FID  \\\n",
       "0    0.754714    0.013313    0   \n",
       "1    0.721689    0.013685    1   \n",
       "2    0.744050    0.016753    2   \n",
       "3    0.622149    0.010563    3   \n",
       "4    1.383936    0.062333    4   \n",
       "\n",
       "                                            geometry  \n",
       "0  POLYGON ((29.79610 -3.62670, 29.79520 -3.63290...  \n",
       "1  POLYGON ((29.82560 -3.36660, 29.82510 -3.36980...  \n",
       "2  POLYGON ((29.60730 -3.78270, 29.60390 -3.78900...  \n",
       "3  POLYGON ((29.49640 -3.66300, 29.49790 -3.66420...  \n",
       "4  POLYGON ((29.53690 -4.19130, 29.53700 -4.19170...  "
      ]
     },
     "execution_count": 76,
     "metadata": {},
     "output_type": "execute_result"
    }
   ],
   "source": [
    "df2.head()"
   ]
  },
  {
   "cell_type": "code",
   "execution_count": 77,
   "id": "58d7f15c",
   "metadata": {},
   "outputs": [],
   "source": [
    "u = pd.DataFrame(df['adm0_name'])\n",
    "u1 = pd.DataFrame(df2['adm0_name'])\n",
    "\n",
    "u2 = pd.DataFrame(df['adm1_name'])\n",
    "u3 = pd.DataFrame(df2['adm1_name'])\n",
    "\n"
   ]
  },
  {
   "cell_type": "code",
   "execution_count": 78,
   "id": "b3a0dd8d",
   "metadata": {},
   "outputs": [],
   "source": [
    "u7 = pd.DataFrame(df['adm2_name'])\n",
    "u8 = pd.DataFrame(df2['adm2_name'])"
   ]
  },
  {
   "cell_type": "code",
   "execution_count": 79,
   "id": "65d7ad50",
   "metadata": {},
   "outputs": [
    {
     "data": {
      "text/plain": [
       "array([], dtype=object)"
      ]
     },
     "execution_count": 79,
     "metadata": {},
     "output_type": "execute_result"
    }
   ],
   "source": [
    "dff = u.merge(u1, how = 'outer' ,indicator=True).loc[lambda x : x['_merge']=='left_only']\n",
    "\n",
    "dff.adm0_name.unique()"
   ]
  },
  {
   "cell_type": "code",
   "execution_count": 10,
   "id": "b55b3741",
   "metadata": {},
   "outputs": [
    {
     "data": {
      "text/plain": [
       "array([nan, 'Extreme - Nord', 'Bolama', 'North Kordofan', 'North Darfur',\n",
       "       'Gedaref', 'South Kordofan', 'South Darfur', 'West Kordofan',\n",
       "       'West Darfur'], dtype=object)"
      ]
     },
     "execution_count": 10,
     "metadata": {},
     "output_type": "execute_result"
    }
   ],
   "source": [
    "dff2 = u2.merge(u3, how = 'outer' ,indicator=True).loc[lambda x : x['_merge']=='left_only']\n",
    "\n",
    "dff2.adm1_name.unique()"
   ]
  },
  {
   "cell_type": "code",
   "execution_count": null,
   "id": "252991b9",
   "metadata": {},
   "outputs": [],
   "source": [
    "#South Darfur is as Southern Dafur in the Gaul\n",
    "#Baloma is as Bolama/bijagos in the gaul\n",
    "#North Kordofan is as a Northern Kordofan in Gaul\n",
    "#North Darfur is as a Northern  Darfur in gaul\n",
    "#South Darfur is as a Southern Darfur in gaul\n",
    "#West Kordofan is as a Western Kordofan in gaul\n",
    "#West Darfur is as an Western Darfur in gaul\n",
    "\n",
    "\n"
   ]
  },
  {
   "cell_type": "code",
   "execution_count": null,
   "id": "fb301b62",
   "metadata": {},
   "outputs": [],
   "source": []
  },
  {
   "cell_type": "code",
   "execution_count": 37,
   "id": "6663b9be",
   "metadata": {},
   "outputs": [],
   "source": [
    "dff3 = u7.merge(u8, how = 'outer' ,indicator=True).loc[lambda x : x['_merge']=='left_only']\n",
    "\n",
    "r = dff3.adm2_name.unique()\n",
    "s = df2.adm2_name.unique()\n",
    "ss = df2.adm1_name.unique()\n",
    "s = pd.Series(s)\n",
    "ss = pd.Series(ss)\n"
   ]
  },
  {
   "cell_type": "code",
   "execution_count": 12,
   "id": "dd324210",
   "metadata": {},
   "outputs": [
    {
     "data": {
      "text/plain": [
       "322"
      ]
     },
     "execution_count": 12,
     "metadata": {},
     "output_type": "execute_result"
    }
   ],
   "source": [
    "len(r)"
   ]
  },
  {
   "cell_type": "code",
   "execution_count": 13,
   "id": "94fe0d42",
   "metadata": {},
   "outputs": [
    {
     "name": "stderr",
     "output_type": "stream",
     "text": [
      "C:\\Users\\ASUS\\AppData\\Local\\Temp\\ipykernel_8316\\2526575702.py:1: UserWarning: This pattern is interpreted as a regular expression, and has match groups. To actually get the groups, use str.extract.\n",
      "  s = s[s.str.contains('|'.join(map(str, r)))]\n"
     ]
    }
   ],
   "source": [
    "s = s[s.str.contains('|'.join(map(str, r)))]"
   ]
  },
  {
   "cell_type": "code",
   "execution_count": null,
   "id": "f70de399",
   "metadata": {},
   "outputs": [],
   "source": [
    "#the reslt shows that among 322 differences, 259 of them are the same and juts different in writing"
   ]
  },
  {
   "cell_type": "code",
   "execution_count": null,
   "id": "eacf62ec",
   "metadata": {},
   "outputs": [],
   "source": []
  },
  {
   "cell_type": "markdown",
   "id": "19b4f425",
   "metadata": {},
   "source": [
    "# Checking GED data withgaul"
   ]
  },
  {
   "cell_type": "code",
   "execution_count": 120,
   "id": "0413877c",
   "metadata": {},
   "outputs": [],
   "source": [
    "df_GED = pd.read_csv('GED_monthly_agg.csv')\n"
   ]
  },
  {
   "cell_type": "code",
   "execution_count": 121,
   "id": "78bc86b7",
   "metadata": {},
   "outputs": [],
   "source": [
    "\n",
    "df_GED.rename(columns = {'Unnamed: 0':'year', 'Unnamed: 1' :'month', 'Unnamed: 2': 'country', 'Unnamed: 3': 'adm1_name', 'Unnamed: 4': 'adm2_name' }, inplace= True)\n",
    "df_GED.drop([0,1], axis=0, inplace=True)"
   ]
  },
  {
   "cell_type": "code",
   "execution_count": 128,
   "id": "b92dbcb9",
   "metadata": {},
   "outputs": [],
   "source": [
    "rr = df_GED.adm1_name.unique()\n",
    "rr2 = df_GED.adm2_name.unique()"
   ]
  },
  {
   "cell_type": "code",
   "execution_count": 127,
   "id": "1cb3bbff",
   "metadata": {},
   "outputs": [
    {
     "data": {
      "text/html": [
       "<div>\n",
       "<style scoped>\n",
       "    .dataframe tbody tr th:only-of-type {\n",
       "        vertical-align: middle;\n",
       "    }\n",
       "\n",
       "    .dataframe tbody tr th {\n",
       "        vertical-align: top;\n",
       "    }\n",
       "\n",
       "    .dataframe thead th {\n",
       "        text-align: right;\n",
       "    }\n",
       "</style>\n",
       "<table border=\"1\" class=\"dataframe\">\n",
       "  <thead>\n",
       "    <tr style=\"text-align: right;\">\n",
       "      <th></th>\n",
       "      <th>year</th>\n",
       "      <th>month</th>\n",
       "      <th>adm0_name</th>\n",
       "      <th>adm1_name</th>\n",
       "      <th>adm2_name</th>\n",
       "      <th>best</th>\n",
       "    </tr>\n",
       "  </thead>\n",
       "  <tbody>\n",
       "    <tr>\n",
       "      <th>2</th>\n",
       "      <td>1989</td>\n",
       "      <td>01</td>\n",
       "      <td>Angola</td>\n",
       "      <td>Benguela province</td>\n",
       "      <td>Ganda municipality</td>\n",
       "      <td>1</td>\n",
       "    </tr>\n",
       "    <tr>\n",
       "      <th>3</th>\n",
       "      <td>1989</td>\n",
       "      <td>01</td>\n",
       "      <td>Angola</td>\n",
       "      <td>Cabinda province</td>\n",
       "      <td>Belize municipality</td>\n",
       "      <td>0</td>\n",
       "    </tr>\n",
       "    <tr>\n",
       "      <th>4</th>\n",
       "      <td>1989</td>\n",
       "      <td>01</td>\n",
       "      <td>Angola</td>\n",
       "      <td>Cuanza Norte province</td>\n",
       "      <td>Samba Cajú municipality</td>\n",
       "      <td>0</td>\n",
       "    </tr>\n",
       "    <tr>\n",
       "      <th>5</th>\n",
       "      <td>1989</td>\n",
       "      <td>01</td>\n",
       "      <td>Angola</td>\n",
       "      <td>Huila province</td>\n",
       "      <td>Matala municipality</td>\n",
       "      <td>0</td>\n",
       "    </tr>\n",
       "    <tr>\n",
       "      <th>6</th>\n",
       "      <td>1989</td>\n",
       "      <td>01</td>\n",
       "      <td>Angola</td>\n",
       "      <td>Lunda Norte province</td>\n",
       "      <td>Cambulo municipality</td>\n",
       "      <td>0</td>\n",
       "    </tr>\n",
       "    <tr>\n",
       "      <th>...</th>\n",
       "      <td>...</td>\n",
       "      <td>...</td>\n",
       "      <td>...</td>\n",
       "      <td>...</td>\n",
       "      <td>...</td>\n",
       "      <td>...</td>\n",
       "    </tr>\n",
       "    <tr>\n",
       "      <th>20576</th>\n",
       "      <td>2021</td>\n",
       "      <td>12</td>\n",
       "      <td>Sudan</td>\n",
       "      <td>South Kordofan state</td>\n",
       "      <td>Rashad district</td>\n",
       "      <td>1</td>\n",
       "    </tr>\n",
       "    <tr>\n",
       "      <th>20577</th>\n",
       "      <td>2021</td>\n",
       "      <td>12</td>\n",
       "      <td>Sudan</td>\n",
       "      <td>West Darfur state</td>\n",
       "      <td>Jebel Moon district</td>\n",
       "      <td>25</td>\n",
       "    </tr>\n",
       "    <tr>\n",
       "      <th>20578</th>\n",
       "      <td>2021</td>\n",
       "      <td>12</td>\n",
       "      <td>Sudan</td>\n",
       "      <td>West Darfur state</td>\n",
       "      <td>Kereinik district</td>\n",
       "      <td>102</td>\n",
       "    </tr>\n",
       "    <tr>\n",
       "      <th>20579</th>\n",
       "      <td>2021</td>\n",
       "      <td>12</td>\n",
       "      <td>Sudan</td>\n",
       "      <td>West Darfur state</td>\n",
       "      <td>Sirba district</td>\n",
       "      <td>8</td>\n",
       "    </tr>\n",
       "    <tr>\n",
       "      <th>20580</th>\n",
       "      <td>2021</td>\n",
       "      <td>12</td>\n",
       "      <td>Tanzania</td>\n",
       "      <td>Mtwara region</td>\n",
       "      <td>Mtwara Rural district</td>\n",
       "      <td>11</td>\n",
       "    </tr>\n",
       "  </tbody>\n",
       "</table>\n",
       "<p>20579 rows × 6 columns</p>\n",
       "</div>"
      ],
      "text/plain": [
       "       year month adm0_name              adm1_name                adm2_name  \\\n",
       "2      1989    01    Angola      Benguela province       Ganda municipality   \n",
       "3      1989    01    Angola       Cabinda province      Belize municipality   \n",
       "4      1989    01    Angola  Cuanza Norte province  Samba Cajú municipality   \n",
       "5      1989    01    Angola         Huila province      Matala municipality   \n",
       "6      1989    01    Angola   Lunda Norte province     Cambulo municipality   \n",
       "...     ...   ...       ...                    ...                      ...   \n",
       "20576  2021    12     Sudan   South Kordofan state          Rashad district   \n",
       "20577  2021    12     Sudan      West Darfur state      Jebel Moon district   \n",
       "20578  2021    12     Sudan      West Darfur state        Kereinik district   \n",
       "20579  2021    12     Sudan      West Darfur state           Sirba district   \n",
       "20580  2021    12  Tanzania          Mtwara region    Mtwara Rural district   \n",
       "\n",
       "      best  \n",
       "2        1  \n",
       "3        0  \n",
       "4        0  \n",
       "5        0  \n",
       "6        0  \n",
       "...    ...  \n",
       "20576    1  \n",
       "20577   25  \n",
       "20578  102  \n",
       "20579    8  \n",
       "20580   11  \n",
       "\n",
       "[20579 rows x 6 columns]"
      ]
     },
     "execution_count": 127,
     "metadata": {},
     "output_type": "execute_result"
    }
   ],
   "source": [
    "df_GED.rename(columns = {'adm_1':'adm1_name', 'adm_2' :'adm2_name', 'country' :'adm0_name'  }, inplace= True)\n",
    "\n",
    "df_GED"
   ]
  },
  {
   "cell_type": "code",
   "execution_count": 129,
   "id": "d9f21492",
   "metadata": {},
   "outputs": [],
   "source": [
    "df_GED['adm1_name'] = df_GED['adm1_name'].str.replace(\"province\", \"\")\n",
    "df_GED['adm1_name'] = df_GED['adm1_name'].str.replace(\"region\", \"\")\n",
    "df_GED['adm1_name'] = df_GED['adm1_name'].str.replace(\"district\", \"\")\n",
    "df_GED['adm1_name'] = df_GED['adm1_name'].str.replace(\"county\", \"\")\n",
    "df_GED['adm1_name'] = df_GED['adm1_name'].str.replace(\"municipality\", \"\")\n",
    "df_GED['adm1_name'] = df_GED['adm1_name'].str.replace(\"zone\", \"\")\n",
    "df_GED['adm1_name'] = df_GED['adm1_name'].str.replace(\"constituency\", \"\")\n",
    "df_GED['adm1_name'] = df_GED['adm1_name'].str.replace(\"department\", \"\")\n",
    "df_GED['adm1_name'] = df_GED['adm1_name'].str.replace(\"municipal\", \"\")\n",
    "df_GED['adm1_name'] = df_GED['adm1_name'].str.replace(\"administrative district\", \"\")\n",
    "df_GED['adm1_name'] = df_GED['adm1_name'].str.replace(\" \", \"\")\n",
    "\n",
    "df_GED['adm2_name'] = df_GED['adm2_name'].str.replace(\"province\", \"\")\n",
    "df_GED['adm2_name'] = df_GED['adm2_name'].str.replace(\"region\", \"\")\n",
    "df_GED['adm2_name'] = df_GED['adm2_name'].str.replace(\"district\", \"\")\n",
    "df_GED['adm2_name'] = df_GED['adm2_name'].str.replace(\"county\", \"\")\n",
    "df_GED['adm2_name'] = df_GED['adm2_name'].str.replace(\"municipality\", \"\")\n",
    "df_GED['adm2_name'] = df_GED['adm2_name'].str.replace(\"zone\", \"\")\n",
    "df_GED['adm2_name'] = df_GED['adm2_name'].str.replace(\"constituency\", \"\")\n",
    "df_GED['adm2_name'] = df_GED['adm2_name'].str.replace(\"department\", \"\")\n",
    "df_GED['adm2_name'] = df_GED['adm2_name'].str.replace(\"municipal\", \"\")\n",
    "df_GED['adm2_name'] = df_GED['adm2_name'].str.replace(\"administrative district\", \"\")\n",
    "df_GED['adm2_name'] = df_GED['adm2_name'].str.replace(\" \", \"\")\n",
    "\n",
    "\n"
   ]
  },
  {
   "cell_type": "code",
   "execution_count": 136,
   "id": "205a0e44",
   "metadata": {},
   "outputs": [],
   "source": [
    "r1= pd.DataFrame(df_GED['adm0_name'])\n",
    "\n",
    "\n",
    "r2 = pd.DataFrame(df_GED['adm1_name'])\n",
    "r3 = pd.DataFrame(df_GED['adm2_name'])\n"
   ]
  },
  {
   "cell_type": "code",
   "execution_count": null,
   "id": "2b1c8844",
   "metadata": {},
   "outputs": [],
   "source": []
  },
  {
   "cell_type": "code",
   "execution_count": 152,
   "id": "046364c9",
   "metadata": {},
   "outputs": [
    {
     "data": {
      "text/plain": [
       "array(['DR Congo (Zaire)', 'Kingdom of eSwatini (Swaziland)',\n",
       "       'Zimbabwe (Rhodesia)', 'Ivory Coast', 'Tanzania',\n",
       "       'Madagascar (Malagasy)'], dtype=object)"
      ]
     },
     "execution_count": 152,
     "metadata": {},
     "output_type": "execute_result"
    }
   ],
   "source": [
    "dff_GED = r1.merge(u1, how = 'outer' ,indicator=True).loc[lambda x : x['_merge']=='left_only']\n",
    "\n",
    "dff_GED.adm0_name.unique()"
   ]
  },
  {
   "cell_type": "code",
   "execution_count": null,
   "id": "289d8049",
   "metadata": {},
   "outputs": [],
   "source": [
    "#all of them are available in gaul with different names than can be replaced"
   ]
  },
  {
   "cell_type": "code",
   "execution_count": null,
   "id": "a84e9a44",
   "metadata": {},
   "outputs": [],
   "source": []
  },
  {
   "cell_type": "code",
   "execution_count": 31,
   "id": "1bb0d33a",
   "metadata": {},
   "outputs": [
    {
     "data": {
      "text/plain": [
       "array(['CuanzaNorte', 'LundaNorte', 'LundaSul', 'RiftValley',\n",
       "       'CuandoCubango', 'Shaba', 'Eritrea', 'Natal', 'CuanzaSul',\n",
       "       'Zambézia', 'DakhletNouadhibou', 'Saint-Louis', 'WoqooyiGalbeed',\n",
       "       'Hararghe', 'LowerJuba', 'LowerShabelle', 'CaboDelgado',\n",
       "       'Banaadir', 'Wollo', 'GrandeComore', 'Cape', 'Welega',\n",
       "       'GrandGedeh', 'Kordofan', 'UpperNile', 'Borkou-Ennedi-Tibesti',\n",
       "       'Begemder', 'Shewa', 'GrandBassa', 'Guidimaka', 'North-West',\n",
       "       'RiverCess', 'GrandCapeMount', 'Sud-Ouest', 'Riversstate',\n",
       "       'Byumbaprefecture', 'Gisenyiprefecture', 'Kigaliprefecture',\n",
       "       'Hiran', 'MashonalandCentral', 'BasZaïre', 'Ruhengeriprefecture',\n",
       "       'Kordofanstate', 'UpperNilestate', 'Chari-Baguirmi',\n",
       "       'Equatoriastate', 'KasaïOriental', 'Bauchistate',\n",
       "       'BahralGhazalstate', 'Amadaoua', 'Tarabastate', 'ElOued',\n",
       "       'BujumburaMairie', 'BujumburaRural', 'Algiers', 'Tillabéri',\n",
       "       'FarNorth', 'Khartoumstate', 'DaresSalaam', 'AkwaIbomstate',\n",
       "       'Kadunastate', 'Kigali-Ruralprefecture', 'Sidamo', 'AinDefla',\n",
       "       'Kibuyeprefecture', 'Transvaal', 'SidibelAbbès', 'LogoneOriental',\n",
       "       'ElBayadh', 'Tébessa', 'Moyen-Chari', 'NordKivu',\n",
       "       'BordjBouArreridj', 'OumElBouaghi', 'Northwestern', 'TiziOuzou',\n",
       "       'KasaïOccidental', 'MiddleJuba', 'AinTémouchent', 'RiverGee',\n",
       "       'GrandKru', 'Plateaustate', 'Butareprefecture',\n",
       "       'Cyanguguprefecture', 'Gikongoroprefecture', 'Gitaramaprefecture',\n",
       "       'Kibungoprefecture', 'SouthernKordofanstate', 'Lagosstate',\n",
       "       'LogoneOccidental', 'WesternCape', 'Oromiyastate', 'SudKivu',\n",
       "       'Somalistate', 'MiddleShabelle', 'EasternEquatoriastate',\n",
       "       'MashonalandWest', 'Bahr-al-Jabalstate', 'South-West',\n",
       "       'Gash-Setit', 'Deltastate', 'SouthernDarfurstate',\n",
       "       'WesternDarfurstate', 'Haut-Zaïre', 'Galgudud', 'Mayo-Kebbi',\n",
       "       'Gambellastate', 'SNNPstate', 'WestKordofanstate', 'Équateur',\n",
       "       'Osunstate', 'Bayelsastate', 'Bujumbura', 'Oyostate',\n",
       "       'Kinshasacity', 'Gash-Barka', 'Tigraystate',\n",
       "       'SectorAutonomodeBissau', 'Ondostate', 'BasCongo', 'NorthEastern',\n",
       "       'Thaba-Tseka', 'Benuestate', 'Enugustate', 'Lakesstate',\n",
       "       'Unitystate', 'Anambrastate', 'Ituri', 'Ogunstate', 'Kibale',\n",
       "       \"N'Djamena\", 'Haut-Sassandra', 'Abiastate', 'ElTarf',\n",
       "       'NorthernRedSea', 'Afarstate', 'ValléeduBandama', 'Gombestate',\n",
       "       'Okavango', 'BathaOuest', 'UpperEast', 'Imostate',\n",
       "       'NorthernBahr-al-Ghazalstate', 'PembaNorth', 'PembaSouth',\n",
       "       'ZanzibarUrban/West', 'Moyen-Cavally', 'Nasarawastate',\n",
       "       'Zamfarastate', 'WesternBahr-al-Ghazal\\xa0state', 'Amharastate',\n",
       "       'Antananarivo', 'Antsiranana', 'Fianarantsoa', 'Mahajanga',\n",
       "       'Medeninegovernorate', 'Fromager', 'Kwarastate', 'Jongleistate',\n",
       "       \"N'zi-Comoé\", \"Ombella-M'Poko\", 'Dix-HuitMontagnes', 'Ouham-Pendé',\n",
       "       'Bas-Sassandra', 'Adamawastate', 'CrossRiverstate', 'Kanostate',\n",
       "       'Ebonyistate', 'Edostate', 'Kogistate', 'Sokotostate',\n",
       "       'NorthernDarfurstate', 'GrandCasablanca', 'Bornostate',\n",
       "       'Yobestate', 'Ekitistate', 'WadiFira', 'Kebbistate', 'Marahoue',\n",
       "       'RedSeastate', 'Westerndivision', 'CentralEquatoriastate',\n",
       "       'WesternEquatoriastate', 'Nigerstate', \"VilledeN'Djamena\", 'Labé',\n",
       "       'Nana-Grébizi', 'Benishangul-Gumuzstate', 'SouthernRedSea',\n",
       "       'MashonalandEast', 'TirisZemmour', 'Atsimo-Andrefana',\n",
       "       'Hararistate', 'Warrapstate', 'Sédhiou',\n",
       "       'WesternBahr-al-Ghazalstate', 'Sud-Bandama', 'HodhechChargui',\n",
       "       'NorthernKordofanstate', 'Jigawastate', 'Katsinastate',\n",
       "       'FederalCapitalterritory', 'Silianagovernorate', 'BlueNilestate',\n",
       "       'WestBahr-al-Ghazalstate', 'Kebiligovernorate', 'Warapstate',\n",
       "       'Sfaxgovernorate', 'NorthBahr-al-Ghazalstate', 'WestCoastdivision',\n",
       "       'CentralDarfurstate', 'Gezirastate', 'Kassérinegovernorate',\n",
       "       'Kisumu', 'Mambéré-Kadéi', 'EastDarfurstate', 'Garissa', 'Mandera',\n",
       "       'SouthKordofanstate', 'Mombasa', 'Wajir', 'Marsabit', 'Kigalicity',\n",
       "       'SouthDarfurstate', 'Samburu', 'WestPokot', 'NorthDarfurstate',\n",
       "       'SidiBouZidgovernorate', 'Turkana', 'WestEquatoriastate',\n",
       "       'NorthKordofanstate', 'Jendoubagovernorate', 'Kwale',\n",
       "       'Northernstate', 'WestDarfurstate', 'Baringo', 'Lamu',\n",
       "       'LeKefgovernorate', 'Isiolo', 'Tunisgovernorate',\n",
       "       'Soussegovernorate', 'Gafsagovernorate', 'Bas-Uélé',\n",
       "       'Haut-Katanga', 'Haut-Uélé', 'Tanganyika', 'Kilifi',\n",
       "       'EastEquatoriastate', 'Rumonge', 'Comoé', 'ElgeyoMarakwet',\n",
       "       'EasternCape', 'TanaRiver', 'Siaya', 'Kasaï-Central', 'Kasaï',\n",
       "       'Haut-Lomami', 'KongoCentral', 'Lomami', 'Ménaka', 'Lualaba',\n",
       "       'Sankuru', 'Laikipia', 'HomaBay', 'BoucleduMouhoun', 'Bungoma',\n",
       "       'Meru', 'Kericho', 'Narok', 'Nairobicity', 'Kiambu', 'Mai-Ndombe',\n",
       "       'Kitui', 'RiverNilestate', 'WhiteNilestate', 'CentreEst',\n",
       "       'CentreNord', 'Kwilu', 'Tshopo', 'Kisii', 'UasinGishu',\n",
       "       'HauteMatsiatra', 'Gedarifstate', 'CentreSud', 'Sennarstate',\n",
       "       'West', 'Kakamega', 'NorthernCape', 'HautsBassins', 'Nandi',\n",
       "       'Kassalastate', 'Atsimo-Atsinanana', 'MatabelelandNorth',\n",
       "       'ZanzibarNorth', 'ZanzibarUrbanWest', 'Batha', 'Tshuapa',\n",
       "       'Guelmim-OuedNoun', 'Souss-Massa', 'Laâyoune-SakiaalHamra',\n",
       "       'Dakhla-OuedEd-Dahab'], dtype=object)"
      ]
     },
     "execution_count": 31,
     "metadata": {},
     "output_type": "execute_result"
    }
   ],
   "source": [
    "\n",
    "\n",
    "dff_GED_1 = r2.merge(u3, how = 'outer' ,indicator=True).loc[lambda x : x['_merge']=='left_only']\n",
    "\n",
    "dff_GED_1.adm1_name.unique()\n",
    "\n",
    "#names of adm1 from GED that are not available in gaul or different in writing"
   ]
  },
  {
   "cell_type": "code",
   "execution_count": 32,
   "id": "44f84c24",
   "metadata": {},
   "outputs": [
    {
     "data": {
      "text/plain": [
       "301"
      ]
     },
     "execution_count": 32,
     "metadata": {},
     "output_type": "execute_result"
    }
   ],
   "source": [
    "len(dff_GED_1.adm1_name.unique())"
   ]
  },
  {
   "cell_type": "code",
   "execution_count": 40,
   "id": "ec85bc8d",
   "metadata": {},
   "outputs": [],
   "source": [
    "rr1 = dff_GED_1.adm1_name.unique()"
   ]
  },
  {
   "cell_type": "code",
   "execution_count": 41,
   "id": "2708a706",
   "metadata": {},
   "outputs": [
    {
     "data": {
      "text/plain": [
       "3                      Bujumbura Rural\n",
       "16                    Bujumbura Mairie\n",
       "51                             Western\n",
       "104                West/Iburengerazuba\n",
       "130             Western Bahr El Ghazal\n",
       "131                  Western Equatoria\n",
       "337                      North-Western\n",
       "343                   Mashonaland West\n",
       "400                          Batha Est\n",
       "401                        Batha Ouest\n",
       "486                     Western Darfur\n",
       "488                  Southern Kordofan\n",
       "491                  Northern Kordofan\n",
       "632                       Eastern Cape\n",
       "635                      KwaZulu-Natal\n",
       "637                         North West\n",
       "638                      Northern Cape\n",
       "640                       Western Cape\n",
       "724                       Western Area\n",
       "755                   Grand Cape Mount\n",
       "775                         West Coast\n",
       "785                         Upper West\n",
       "815                 Sassandra-Marahoue\n",
       "947                        Far Western\n",
       "948                        Mid Western\n",
       "952                North-West Frontier\n",
       "976                        West Bengal\n",
       "1008                  West Azarbayejan\n",
       "1015                     North Western\n",
       "1085                    Western Region\n",
       "1309                      Westmoreland\n",
       "1332    Providenciales and West Caicos\n",
       "1642                     West Virginia\n",
       "2206       Region VI (Western Visayas)\n",
       "2767                   Western Finland\n",
       "2792                         Westmeath\n",
       "3118               Nordrhein-Westfalen\n",
       "3172                         East Cape\n",
       "3182                          Westland\n",
       "3187                 Western Australia\n",
       "dtype: object"
      ]
     },
     "execution_count": 41,
     "metadata": {},
     "output_type": "execute_result"
    }
   ],
   "source": [
    "ss = ss[ss.str.contains('|'.join(map(str, rr1)))]\n",
    "ss"
   ]
  },
  {
   "cell_type": "code",
   "execution_count": 42,
   "id": "b50cdc26",
   "metadata": {},
   "outputs": [
    {
     "data": {
      "text/plain": [
       "40"
      ]
     },
     "execution_count": 42,
     "metadata": {},
     "output_type": "execute_result"
    }
   ],
   "source": [
    "len(ss)"
   ]
  },
  {
   "cell_type": "code",
   "execution_count": null,
   "id": "ca8e03ee",
   "metadata": {},
   "outputs": [],
   "source": [
    "# it means that 40 names out of 301 different names are editiable because the difference is on writing"
   ]
  },
  {
   "cell_type": "code",
   "execution_count": null,
   "id": "e01481e9",
   "metadata": {},
   "outputs": [],
   "source": []
  },
  {
   "cell_type": "code",
   "execution_count": 43,
   "id": "358aaf19",
   "metadata": {},
   "outputs": [
    {
     "data": {
      "text/plain": [
       "array(['SambaCajú', 'Capenda-Camulemba', 'Moxico(Luena)', ...,\n",
       "       'Masasicouncil', 'Nyakach', 'SharqElNile'], dtype=object)"
      ]
     },
     "execution_count": 43,
     "metadata": {},
     "output_type": "execute_result"
    }
   ],
   "source": [
    "dff_GED_2 = r3.merge(u8, how = 'outer' ,indicator=True).loc[lambda x : x['_merge']=='left_only']\n",
    "\n",
    "dff_GED_2.adm2_name.unique()\n",
    "# names of the adm2 in GED that are not available in gaul"
   ]
  },
  {
   "cell_type": "code",
   "execution_count": 44,
   "id": "7dd3aaf8",
   "metadata": {},
   "outputs": [
    {
     "data": {
      "text/plain": [
       "2015"
      ]
     },
     "execution_count": 44,
     "metadata": {},
     "output_type": "execute_result"
    }
   ],
   "source": [
    "len(dff_GED_2.adm2_name.unique())"
   ]
  },
  {
   "cell_type": "code",
   "execution_count": 45,
   "id": "50ea68fe",
   "metadata": {},
   "outputs": [],
   "source": [
    "rr22 = dff_GED_2.adm2_name.unique()"
   ]
  },
  {
   "cell_type": "code",
   "execution_count": 46,
   "id": "731af421",
   "metadata": {},
   "outputs": [
    {
     "name": "stderr",
     "output_type": "stream",
     "text": [
      "C:\\Users\\ASUS\\AppData\\Local\\Temp\\ipykernel_8316\\1022068436.py:1: UserWarning: This pattern is interpreted as a regular expression, and has match groups. To actually get the groups, use str.extract.\n",
      "  s = s[s.str.contains('|'.join(map(str, rr22)))]\n"
     ]
    },
    {
     "data": {
      "text/plain": [
       "108              Mabanda\n",
       "199            Region 14\n",
       "200             Awi/Agew\n",
       "222               Zone 2\n",
       "223               Zone 3\n",
       "              ...       \n",
       "32597             Manche\n",
       "32823      Mansfield (S)\n",
       "32941    Great Lakes (A)\n",
       "32969          Manly (A)\n",
       "33059     Manningham (C)\n",
       "Length: 387, dtype: object"
      ]
     },
     "execution_count": 46,
     "metadata": {},
     "output_type": "execute_result"
    }
   ],
   "source": [
    "s = s[s.str.contains('|'.join(map(str, rr22)))]\n",
    "s"
   ]
  },
  {
   "cell_type": "code",
   "execution_count": null,
   "id": "0f0268c6",
   "metadata": {},
   "outputs": [],
   "source": [
    "#the result shows that among 2015 differences in adm2 level, 387 of them have a difference just in writing"
   ]
  },
  {
   "cell_type": "code",
   "execution_count": null,
   "id": "d38598a3",
   "metadata": {},
   "outputs": [],
   "source": []
  },
  {
   "cell_type": "markdown",
   "id": "b15e5fb5",
   "metadata": {},
   "source": [
    "# checking ACLED data with gaul data"
   ]
  },
  {
   "cell_type": "code",
   "execution_count": 153,
   "id": "3cf3bee3",
   "metadata": {},
   "outputs": [
    {
     "data": {
      "text/html": [
       "<div>\n",
       "<style scoped>\n",
       "    .dataframe tbody tr th:only-of-type {\n",
       "        vertical-align: middle;\n",
       "    }\n",
       "\n",
       "    .dataframe tbody tr th {\n",
       "        vertical-align: top;\n",
       "    }\n",
       "\n",
       "    .dataframe thead th {\n",
       "        text-align: right;\n",
       "    }\n",
       "</style>\n",
       "<table border=\"1\" class=\"dataframe\">\n",
       "  <thead>\n",
       "    <tr style=\"text-align: right;\">\n",
       "      <th></th>\n",
       "      <th>Unnamed: 0</th>\n",
       "      <th>Unnamed: 1</th>\n",
       "      <th>Unnamed: 2</th>\n",
       "      <th>Unnamed: 3</th>\n",
       "      <th>Unnamed: 4</th>\n",
       "      <th>fatalities</th>\n",
       "    </tr>\n",
       "  </thead>\n",
       "  <tbody>\n",
       "    <tr>\n",
       "      <th>0</th>\n",
       "      <td>NaN</td>\n",
       "      <td>NaN</td>\n",
       "      <td>NaN</td>\n",
       "      <td>NaN</td>\n",
       "      <td>NaN</td>\n",
       "      <td>sum</td>\n",
       "    </tr>\n",
       "    <tr>\n",
       "      <th>1</th>\n",
       "      <td>year</td>\n",
       "      <td>month</td>\n",
       "      <td>country</td>\n",
       "      <td>admin1</td>\n",
       "      <td>admin2</td>\n",
       "      <td>NaN</td>\n",
       "    </tr>\n",
       "    <tr>\n",
       "      <th>2</th>\n",
       "      <td>2000</td>\n",
       "      <td>1</td>\n",
       "      <td>Algeria</td>\n",
       "      <td>Batna</td>\n",
       "      <td>Arris</td>\n",
       "      <td>22</td>\n",
       "    </tr>\n",
       "    <tr>\n",
       "      <th>3</th>\n",
       "      <td>2000</td>\n",
       "      <td>1</td>\n",
       "      <td>Algeria</td>\n",
       "      <td>Chlef</td>\n",
       "      <td>Chlef</td>\n",
       "      <td>3</td>\n",
       "    </tr>\n",
       "    <tr>\n",
       "      <th>4</th>\n",
       "      <td>2000</td>\n",
       "      <td>1</td>\n",
       "      <td>Algeria</td>\n",
       "      <td>Constantine</td>\n",
       "      <td>Constantine</td>\n",
       "      <td>0</td>\n",
       "    </tr>\n",
       "  </tbody>\n",
       "</table>\n",
       "</div>"
      ],
      "text/plain": [
       "  Unnamed: 0 Unnamed: 1 Unnamed: 2   Unnamed: 3   Unnamed: 4 fatalities\n",
       "0        NaN        NaN        NaN          NaN          NaN        sum\n",
       "1       year      month    country       admin1       admin2        NaN\n",
       "2       2000          1    Algeria        Batna        Arris         22\n",
       "3       2000          1    Algeria        Chlef        Chlef          3\n",
       "4       2000          1    Algeria  Constantine  Constantine          0"
      ]
     },
     "execution_count": 153,
     "metadata": {},
     "output_type": "execute_result"
    }
   ],
   "source": [
    "df_ACLED = pd.read_csv('ACLED_monthly_agg.csv')\n",
    "\n",
    "df_ACLED.head()"
   ]
  },
  {
   "cell_type": "code",
   "execution_count": 154,
   "id": "63c47ecc",
   "metadata": {},
   "outputs": [],
   "source": [
    "\n",
    "df_ACLED.rename(columns = {'Unnamed: 0':'year', 'Unnamed: 1' :'month', 'Unnamed: 2': 'adm_0', 'Unnamed: 3': 'adm1_name', 'Unnamed: 4': 'adm2_name' }, inplace= True)\n",
    "df_ACLED.drop([0,1], axis=0, inplace=True)"
   ]
  },
  {
   "cell_type": "code",
   "execution_count": 155,
   "id": "0cc7b2e3",
   "metadata": {},
   "outputs": [
    {
     "data": {
      "text/html": [
       "<div>\n",
       "<style scoped>\n",
       "    .dataframe tbody tr th:only-of-type {\n",
       "        vertical-align: middle;\n",
       "    }\n",
       "\n",
       "    .dataframe tbody tr th {\n",
       "        vertical-align: top;\n",
       "    }\n",
       "\n",
       "    .dataframe thead th {\n",
       "        text-align: right;\n",
       "    }\n",
       "</style>\n",
       "<table border=\"1\" class=\"dataframe\">\n",
       "  <thead>\n",
       "    <tr style=\"text-align: right;\">\n",
       "      <th></th>\n",
       "      <th>year</th>\n",
       "      <th>month</th>\n",
       "      <th>adm_0</th>\n",
       "      <th>adm1_name</th>\n",
       "      <th>adm2_name</th>\n",
       "      <th>fatalities</th>\n",
       "    </tr>\n",
       "  </thead>\n",
       "  <tbody>\n",
       "    <tr>\n",
       "      <th>2</th>\n",
       "      <td>2000</td>\n",
       "      <td>1</td>\n",
       "      <td>Algeria</td>\n",
       "      <td>Batna</td>\n",
       "      <td>Arris</td>\n",
       "      <td>22</td>\n",
       "    </tr>\n",
       "    <tr>\n",
       "      <th>3</th>\n",
       "      <td>2000</td>\n",
       "      <td>1</td>\n",
       "      <td>Algeria</td>\n",
       "      <td>Chlef</td>\n",
       "      <td>Chlef</td>\n",
       "      <td>3</td>\n",
       "    </tr>\n",
       "    <tr>\n",
       "      <th>4</th>\n",
       "      <td>2000</td>\n",
       "      <td>1</td>\n",
       "      <td>Algeria</td>\n",
       "      <td>Constantine</td>\n",
       "      <td>Constantine</td>\n",
       "      <td>0</td>\n",
       "    </tr>\n",
       "    <tr>\n",
       "      <th>5</th>\n",
       "      <td>2000</td>\n",
       "      <td>1</td>\n",
       "      <td>Algeria</td>\n",
       "      <td>El Tarf</td>\n",
       "      <td>Ain El Assel</td>\n",
       "      <td>8</td>\n",
       "    </tr>\n",
       "    <tr>\n",
       "      <th>6</th>\n",
       "      <td>2000</td>\n",
       "      <td>1</td>\n",
       "      <td>Algeria</td>\n",
       "      <td>Ghardaia</td>\n",
       "      <td>El Meniaa</td>\n",
       "      <td>1</td>\n",
       "    </tr>\n",
       "    <tr>\n",
       "      <th>...</th>\n",
       "      <td>...</td>\n",
       "      <td>...</td>\n",
       "      <td>...</td>\n",
       "      <td>...</td>\n",
       "      <td>...</td>\n",
       "      <td>...</td>\n",
       "    </tr>\n",
       "    <tr>\n",
       "      <th>100334</th>\n",
       "      <td>2022</td>\n",
       "      <td>7</td>\n",
       "      <td>Zimbabwe</td>\n",
       "      <td>Matabeleland South</td>\n",
       "      <td>Matobo</td>\n",
       "      <td>0</td>\n",
       "    </tr>\n",
       "    <tr>\n",
       "      <th>100335</th>\n",
       "      <td>2022</td>\n",
       "      <td>7</td>\n",
       "      <td>Zimbabwe</td>\n",
       "      <td>Midlands</td>\n",
       "      <td>Gweru Urban</td>\n",
       "      <td>0</td>\n",
       "    </tr>\n",
       "    <tr>\n",
       "      <th>100336</th>\n",
       "      <td>2022</td>\n",
       "      <td>7</td>\n",
       "      <td>eSwatini</td>\n",
       "      <td>Hhohho</td>\n",
       "      <td>Mbabane East</td>\n",
       "      <td>0</td>\n",
       "    </tr>\n",
       "    <tr>\n",
       "      <th>100337</th>\n",
       "      <td>2022</td>\n",
       "      <td>7</td>\n",
       "      <td>eSwatini</td>\n",
       "      <td>Lubombo</td>\n",
       "      <td>Mpolonjeni</td>\n",
       "      <td>0</td>\n",
       "    </tr>\n",
       "    <tr>\n",
       "      <th>100338</th>\n",
       "      <td>2022</td>\n",
       "      <td>7</td>\n",
       "      <td>eSwatini</td>\n",
       "      <td>Manzini</td>\n",
       "      <td>Kwaluseni</td>\n",
       "      <td>0</td>\n",
       "    </tr>\n",
       "  </tbody>\n",
       "</table>\n",
       "<p>100337 rows × 6 columns</p>\n",
       "</div>"
      ],
      "text/plain": [
       "        year month     adm_0           adm1_name     adm2_name fatalities\n",
       "2       2000     1   Algeria               Batna         Arris         22\n",
       "3       2000     1   Algeria               Chlef         Chlef          3\n",
       "4       2000     1   Algeria         Constantine   Constantine          0\n",
       "5       2000     1   Algeria             El Tarf  Ain El Assel          8\n",
       "6       2000     1   Algeria            Ghardaia     El Meniaa          1\n",
       "...      ...   ...       ...                 ...           ...        ...\n",
       "100334  2022     7  Zimbabwe  Matabeleland South        Matobo          0\n",
       "100335  2022     7  Zimbabwe            Midlands   Gweru Urban          0\n",
       "100336  2022     7  eSwatini              Hhohho  Mbabane East          0\n",
       "100337  2022     7  eSwatini             Lubombo    Mpolonjeni          0\n",
       "100338  2022     7  eSwatini             Manzini     Kwaluseni          0\n",
       "\n",
       "[100337 rows x 6 columns]"
      ]
     },
     "execution_count": 155,
     "metadata": {},
     "output_type": "execute_result"
    }
   ],
   "source": [
    "df_ACLED"
   ]
  },
  {
   "cell_type": "code",
   "execution_count": 156,
   "id": "9adc40f6",
   "metadata": {},
   "outputs": [],
   "source": [
    "AC_adm1 = pd.DataFrame(df_ACLED['adm1_name'])\n",
    "AC_adm2 = pd.DataFrame(df_ACLED['adm2_name'])\n"
   ]
  },
  {
   "cell_type": "code",
   "execution_count": 157,
   "id": "2c713a81",
   "metadata": {},
   "outputs": [
    {
     "data": {
      "text/html": [
       "<div>\n",
       "<style scoped>\n",
       "    .dataframe tbody tr th:only-of-type {\n",
       "        vertical-align: middle;\n",
       "    }\n",
       "\n",
       "    .dataframe tbody tr th {\n",
       "        vertical-align: top;\n",
       "    }\n",
       "\n",
       "    .dataframe thead th {\n",
       "        text-align: right;\n",
       "    }\n",
       "</style>\n",
       "<table border=\"1\" class=\"dataframe\">\n",
       "  <thead>\n",
       "    <tr style=\"text-align: right;\">\n",
       "      <th></th>\n",
       "      <th>adm1_name</th>\n",
       "    </tr>\n",
       "  </thead>\n",
       "  <tbody>\n",
       "    <tr>\n",
       "      <th>0</th>\n",
       "      <td>Gitega</td>\n",
       "    </tr>\n",
       "    <tr>\n",
       "      <th>1</th>\n",
       "      <td>Mwaro</td>\n",
       "    </tr>\n",
       "    <tr>\n",
       "      <th>2</th>\n",
       "      <td>Bururi</td>\n",
       "    </tr>\n",
       "    <tr>\n",
       "      <th>3</th>\n",
       "      <td>Bujumbura Rural</td>\n",
       "    </tr>\n",
       "    <tr>\n",
       "      <th>4</th>\n",
       "      <td>Bururi</td>\n",
       "    </tr>\n",
       "    <tr>\n",
       "      <th>...</th>\n",
       "      <td>...</td>\n",
       "    </tr>\n",
       "    <tr>\n",
       "      <th>37937</th>\n",
       "      <td>South Australia</td>\n",
       "    </tr>\n",
       "    <tr>\n",
       "      <th>37938</th>\n",
       "      <td>South Australia</td>\n",
       "    </tr>\n",
       "    <tr>\n",
       "      <th>37939</th>\n",
       "      <td>South Australia</td>\n",
       "    </tr>\n",
       "    <tr>\n",
       "      <th>37940</th>\n",
       "      <td>South Australia</td>\n",
       "    </tr>\n",
       "    <tr>\n",
       "      <th>37941</th>\n",
       "      <td>South Australia</td>\n",
       "    </tr>\n",
       "  </tbody>\n",
       "</table>\n",
       "<p>37942 rows × 1 columns</p>\n",
       "</div>"
      ],
      "text/plain": [
       "             adm1_name\n",
       "0               Gitega\n",
       "1                Mwaro\n",
       "2               Bururi\n",
       "3      Bujumbura Rural\n",
       "4               Bururi\n",
       "...                ...\n",
       "37937  South Australia\n",
       "37938  South Australia\n",
       "37939  South Australia\n",
       "37940  South Australia\n",
       "37941  South Australia\n",
       "\n",
       "[37942 rows x 1 columns]"
      ]
     },
     "execution_count": 157,
     "metadata": {},
     "output_type": "execute_result"
    }
   ],
   "source": [
    "u3"
   ]
  },
  {
   "cell_type": "code",
   "execution_count": 162,
   "id": "de198152",
   "metadata": {},
   "outputs": [
    {
     "data": {
      "text/plain": [
       "215"
      ]
     },
     "execution_count": 162,
     "metadata": {},
     "output_type": "execute_result"
    }
   ],
   "source": [
    "df_ACLED_adm1 = AC_adm1.merge(u3, how = 'outer' ,indicator=True).loc[lambda x : x['_merge']=='left_only']\n",
    "\n",
    "len(df_ACLED_adm1.adm1_name.unique())"
   ]
  },
  {
   "cell_type": "code",
   "execution_count": null,
   "id": "8a886962",
   "metadata": {},
   "outputs": [],
   "source": [
    "#it means that there are 215 differences in adm1 level"
   ]
  },
  {
   "cell_type": "code",
   "execution_count": 165,
   "id": "cc447232",
   "metadata": {},
   "outputs": [
    {
     "data": {
      "text/plain": [
       "30"
      ]
     },
     "execution_count": 165,
     "metadata": {},
     "output_type": "execute_result"
    }
   ],
   "source": [
    "v = df_ACLED_adm1.adm1_name.unique()\n",
    "\n",
    "#to findout which of these differences are included in gaul\n",
    "ss = ss[ss.str.contains('|'.join(map(str, v)))]\n",
    "len(ss)"
   ]
  },
  {
   "cell_type": "code",
   "execution_count": null,
   "id": "97ccfe51",
   "metadata": {},
   "outputs": [],
   "source": [
    "#it is shown that 30 out of 215 differences are included in gaul but different in writing"
   ]
  },
  {
   "cell_type": "code",
   "execution_count": null,
   "id": "5e88353d",
   "metadata": {},
   "outputs": [],
   "source": []
  },
  {
   "cell_type": "code",
   "execution_count": 166,
   "id": "211da9a4",
   "metadata": {},
   "outputs": [
    {
     "data": {
      "text/plain": [
       "2043"
      ]
     },
     "execution_count": 166,
     "metadata": {},
     "output_type": "execute_result"
    }
   ],
   "source": [
    "df_ACLED_adm2 = AC_adm2.merge(u8, how = 'outer' ,indicator=True).loc[lambda x : x['_merge']=='left_only']\n",
    "\n",
    "len(df_ACLED_adm2.adm2_name.unique())"
   ]
  },
  {
   "cell_type": "code",
   "execution_count": 167,
   "id": "a03d1979",
   "metadata": {},
   "outputs": [
    {
     "name": "stderr",
     "output_type": "stream",
     "text": [
      "C:\\Users\\ASUS\\AppData\\Local\\Temp\\ipykernel_8316\\1103193419.py:4: UserWarning: This pattern is interpreted as a regular expression, and has match groups. To actually get the groups, use str.extract.\n",
      "  s = s[s.str.contains('|'.join(map(str, v2)))]\n"
     ]
    },
    {
     "data": {
      "text/plain": [
       "79"
      ]
     },
     "execution_count": 167,
     "metadata": {},
     "output_type": "execute_result"
    }
   ],
   "source": [
    "v2 = df_ACLED_adm2.adm2_name.unique()\n",
    "\n",
    "#to findout which of these differences are included in gaul\n",
    "s = s[s.str.contains('|'.join(map(str, v2)))]\n",
    "len(s)"
   ]
  },
  {
   "cell_type": "code",
   "execution_count": null,
   "id": "d43e555a",
   "metadata": {},
   "outputs": [],
   "source": [
    "# just 72 of the differences are included in gaul data"
   ]
  },
  {
   "cell_type": "code",
   "execution_count": null,
   "id": "ae37a3e4",
   "metadata": {},
   "outputs": [],
   "source": []
  }
 ],
 "metadata": {
  "kernelspec": {
   "display_name": "Python 3 (ipykernel)",
   "language": "python",
   "name": "python3"
  },
  "language_info": {
   "codemirror_mode": {
    "name": "ipython",
    "version": 3
   },
   "file_extension": ".py",
   "mimetype": "text/x-python",
   "name": "python",
   "nbconvert_exporter": "python",
   "pygments_lexer": "ipython3",
   "version": "3.10.4"
  }
 },
 "nbformat": 4,
 "nbformat_minor": 5
}
