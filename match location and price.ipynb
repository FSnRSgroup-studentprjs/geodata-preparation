{
 "cells": [
  {
   "cell_type": "code",
   "execution_count": 1,
   "metadata": {},
   "outputs": [],
   "source": [
    "import pandas as pd"
   ]
  },
  {
   "cell_type": "code",
   "execution_count": null,
   "metadata": {},
   "outputs": [],
   "source": [
    "df_market = pd.read_csv('wfp_markets_global.csv')\n",
    "df_price = pd.read_csv('wfpvam_foodprices(1).csv') "
   ]
  },
  {
   "cell_type": "code",
   "execution_count": null,
   "metadata": {},
   "outputs": [],
   "source": [
    "market = df_price.mkt_name.unique()\n",
    "df_market = df_market[df_market.market.isin(market)]\n",
    "df_price.rename(columns = {'mkt_name':'market'}, inplace= True)"
   ]
  },
  {
   "cell_type": "code",
   "execution_count": null,
   "metadata": {},
   "outputs": [],
   "source": [
    "match = pd.merge(df_price,df_market, on='market')\n"
   ]
  },
  {
   "cell_type": "code",
   "execution_count": null,
   "metadata": {},
   "outputs": [],
   "source": [
    "country = ['Algeria','Angola','Benin','Botswana','Burkina Faso','Burundi','Cameroon','Central African Republic','Chad',\n",
    "            'Comoros','Congo','DR Congo (Zaire)','Djibouti','Eritrea','Ethiopia','Gambia','Ghana','Guinea',\n",
    "            'Guinea-Bissau','Ivory Coast','Kenya','Kingdom of eSwatini (Swaziland)','Lesotho','Liberia','Libya','Madagascar (Malagasy)','Algeria',\n",
    "            'Mauritania','Morocco','Mozambique','Namibia','Niger','Nigeria','Rwanda','Senegal','Sierra Leone',\n",
    "            'Mali','Somalia','South Africa','South Sudan','Sudan','Tanzania','Togo','Tunisia','Uganda','Zambia','Zimbabwe (Rhodesia)']"
   ]
  },
  {
   "cell_type": "code",
   "execution_count": null,
   "metadata": {},
   "outputs": [],
   "source": [
    "match_afc = match[match.adm0_name.isin(country)] # it wil be saved as 'match_price_loc.csv' thai used for creating data set\n",
    "\n"
   ]
  }
 ],
 "metadata": {
  "kernelspec": {
   "display_name": "Python 3",
   "language": "python",
   "name": "python3"
  },
  "language_info": {
   "codemirror_mode": {
    "name": "ipython",
    "version": 3
   },
   "file_extension": ".py",
   "mimetype": "text/x-python",
   "name": "python",
   "nbconvert_exporter": "python",
   "pygments_lexer": "ipython3",
   "version": "3.8.5"
  }
 },
 "nbformat": 4,
 "nbformat_minor": 4
}
