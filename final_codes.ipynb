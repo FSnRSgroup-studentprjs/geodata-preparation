{
 "cells": [
  {
   "cell_type": "code",
   "execution_count": 1,
   "id": "ad4fac53",
   "metadata": {},
   "outputs": [],
   "source": [
    "import pandas as pd\n",
    "import numpy as np\n",
    "import glob\n",
    "import os\n",
    "from datetime import datetime\n",
    "from matplotlib import pyplot as plt"
   ]
  },
  {
   "cell_type": "markdown",
   "id": "d32e2452",
   "metadata": {},
   "source": [
    "# Aggregating data"
   ]
  },
  {
   "cell_type": "code",
   "execution_count": null,
   "id": "dae26a99",
   "metadata": {},
   "outputs": [],
   "source": [
    "df_ged =  pd.read_csv('GED_Gaul.csv', encoding='latin-1')\n",
    "\n",
    "\n",
    "\n",
    "d_parser = lambda x: pd.datetime.strptime(x, '%d %B %Y')#cuz date format in 'ACLED' file is different, we need to change the format of date \n",
    "\n",
    "\n",
    "df_acld = pd.read_csv(\"AC_gaul.csv\", parse_dates = ['event_date'], date_parser = d_parser, encoding='latin-1' )"
   ]
  },
  {
   "cell_type": "code",
   "execution_count": null,
   "id": "36af1901",
   "metadata": {},
   "outputs": [],
   "source": [
    "\n",
    "\n",
    "\n",
    "Country_list=['Algeria','Angola','Burkina Faso','Burundi','Cameroon','Central African Republic','Chad',\n",
    "            'Congo','Djibouti','Eritrea','Ethiopia','Gambia','Ghana','Guinea',\n",
    "            'Guinea-Bissau','Kenya','Liberia','Libya','Algeria',\n",
    "            'Mauritania','Morocco','Mozambique','Namibia','Niger','Nigeria','Rwanda','Senegal','Sierra Leone',\n",
    "            'Mali','Somalia','South Africa','South Sudan','Sudan','Togo','Tunisia','Uganda','Zambia','Zimbabwe (Rhodesia)']\n",
    "\n",
    "# collect african countries from our dataframe\n",
    "\n",
    "df_ged_afc = df_ged[df_ged.adm0_name.isin(Country_list)]\n",
    "\n",
    "#remove unnecessary columns from our two dataframes\n",
    "\n",
    "df_ged_afc = df_ged_afc.drop(['Unnamed: 0', 'Unnamed: 1', 'Unnamed: 2', 'Unnamed: 20', 'Unnamed: 21', 'Unnamed: 22', 'Unnamed: 23',\n",
    "            'Unnamed: 24','Unnamed: 26', 'Unnamed: 27','Unnamed: 61', 'Unnamed: 62', 'Unnamed: 63'], axis=1)\n",
    "\n",
    "df_acld.rename(columns = {'adm0_name':'adm0', 'adm1_name': 'adm1', 'adm2_name': 'adm2'}, inplace= True)\n",
    "df_acld['month'] = df_acld['event_date'].dt.month\n",
    "\n",
    "\n",
    "#devide \"date\" column to month and year\n",
    "df_ged_afc[['year','month','day']]= df_ged_afc['date_start'].str.split('-', expand=True)\n",
    "\n",
    "\n",
    "#create column 'number of event' where \"best\"(best estimate of fatalities in GED ) and fatalities in AClEd, are available\n",
    "\n",
    "df_ged_afc[\"number_event\"] = np.where(df_ged_afc[\"best\"] >0 , 1, 0)\n",
    "\n",
    "df_acld[\"number_event\"] = np.where(df_acld[\"fatalities\"] >0 , 1, 0)\n",
    "\n",
    "\n",
    "#then aggregate them on number of fatalities and number of event\n",
    "\n",
    "agg_ged = df_ged_afc.groupby(['year','month','adm0','adm1', 'adm2', 'latitude','longitude']).agg({'best':['sum'], 'number_event':['sum']})\n",
    "\n",
    "df_acld_agg = df_acld.groupby(['year','month','adm0','adm1', 'adm2', 'latitude','longitude']).agg({'fatalities':['sum'], 'number_event':['sum']})\n"
   ]
  },
  {
   "cell_type": "markdown",
   "id": "c279a6ad",
   "metadata": {},
   "source": [
    "# calculating inflation"
   ]
  },
  {
   "cell_type": "code",
   "execution_count": null,
   "id": "0f673608",
   "metadata": {},
   "outputs": [],
   "source": [
    "Country_list=['Algeria','Angola','Burkina Faso','Burundi','Cameroon','Central African Republic','Chad',\n",
    "            'Congo','Djibouti','Eritrea','Ethiopia','Gambia','Ghana','Guinea',\n",
    "            'Guinea-Bissau','Kenya','Liberia','Libya','Algeria',\n",
    "            'Mauritania','Morocco','Mozambique','Namibia','Niger','Nigeria','Rwanda','Senegal','Sierra Leone',\n",
    "            'Mali','Somalia','South Africa','South Sudan','Sudan','Togo','Tunisia','Uganda','Zambia','Zimbabwe (Rhodesia)']\n",
    "\n",
    "\n",
    "\n",
    "\n",
    "df =  pd.read_csv('match_price_loc.csv')#loading('match_price_loc.csv')dataframe that has every market with its location and prices for each product(CSV file is available)\n",
    "\n",
    "#to calculate amount of inflation for each product in each markets for all adm2 in all countries\n",
    "\n",
    "for i in Country_list:\n",
    "    df_adm0 = df[df['adm0_name']==i]\n",
    "\n",
    "#aggregating data frame according to price \n",
    "    df_agg = df_adm0.groupby(['mp_year', 'mp_month','adm0_name','adm1_name','admin2', 'market', 'cm_name']).agg({'mp_price':['sum']})\n",
    "    \n",
    "\n",
    "\n",
    "\n",
    "\n",
    "    for j in df_agg.adm2_name.unique():\n",
    "    \n",
    "    \n",
    "    \n",
    "        df_ag_adm2 = df_agg[df_agg['adm2_name']==j]\n",
    "        df_ag_adm2 = df_ag_adm2.groupby(['year', 'month','adm0_name','adm1_name','adm2_name', 'market', 'cm_name']).agg({'mp_price':['sum']})\n",
    "\n",
    "    \n",
    "    \n",
    "        df_ag_adm2.month.astype(float)\n",
    "        df_ag_adm2.mp_price.astype(float)\n",
    "        df_ag_adm2['mp_price'] = df_ag_adm2['mp_price'].astype(float)\n",
    "        \n",
    "# to create a data frame with name of markets as columns and price of each product in each month  into every column\n",
    "        df_ag_adm2_table = df_ag_adm2.pivot_table(values='mp_price', index= ['year', 'month','adm1_name','adm2_name','cm_name'], columns='market', aggfunc='sum')\n",
    "        \n",
    "#to aggregate 'df_ag_adm2_table' according to each market   \n",
    "        market_name = df_ag_adm2.market.unique()\n",
    "    \n",
    "        df_ag_market = df_ag_adm2_table.groupby(['year', 'month','adm1_name','adm2_name', 'cm_name'])[market_name].sum()\n",
    "    \n",
    "      \n",
    "        product= df_ag_market['cm_name'].unique()\n",
    "        \n",
    "\n",
    "\n",
    " \n",
    " path =r\"C:\\Users\\ASUS\\Desktop\\WHK\\inflation\\ \" #inorder to save our files for some necessary steps I have written a path to save file after this process to desired folder   \n",
    "    \n",
    "        \n",
    "#to calculate inflation for each product in each market     \n",
    "    \n",
    "    for u in product:\n",
    "        \n",
    "        \n",
    "        \n",
    "        filemo = path + u + i +'.csv' #to save data with name of country and name of adm2\n",
    "        \n",
    "        inf_product = df_ag_market[df_ag_market['cm_name']==u]\n",
    "        \n",
    "        \n",
    "        \n",
    "        inf_product['inflation'+' ' + market_name ] = (inf_product[market_name].diff()/inf_product[market_name])*100\n",
    "        \n",
    "       \n",
    "        \n",
    "        inf_product = inf_product.reset_index()\n",
    "        \n",
    "        \n",
    "        inf_product.to_csv(filemo)\n",
    "\n",
    "\n"
   ]
  },
  {
   "cell_type": "markdown",
   "id": "74e36731",
   "metadata": {},
   "source": [
    "# Average inflation for each market"
   ]
  },
  {
   "cell_type": "code",
   "execution_count": null,
   "id": "8be32d09",
   "metadata": {},
   "outputs": [],
   "source": [
    "# to calculate average amount of inflation for all products in each market\n",
    "\n",
    "\n",
    "\n",
    "loc_pri = pd.read_csv('match_price_loc.csv') #loading('match_price_loc.csv')dataframe that has every market with its location and prices for each product(CSV file is available)\n",
    "\n",
    "\n",
    "\n",
    "loc_pri_ad2 = loc_pri.admin2.unique()\n",
    "\n",
    "df = pd.DataFrame()\n",
    "\n",
    "\n",
    "\n",
    "path =r\"C:\\Users\\ASUS\\Desktop\\prak\\ \" # create path for saving our data to desired destination\n",
    "\n",
    "\n",
    "for file in os.listdir(os.getcwd()):\n",
    "    for  adm2 in loc_pri_ad2:\n",
    "        \n",
    "        filee = path + adm2 + '.csv' # created to save our data with name of adm2\n",
    "        \n",
    "        if file.endswith( '.csv'):\n",
    "            \n",
    "            df = df.append(pd.read_csv(file))\n",
    "            \n",
    "            loc_price = loc_pri[loc_pri['admin2']== adm2]\n",
    "            \n",
    "            # to creat a dataframe in the format of saved inflation data we will create 't' as bellow:\n",
    "\n",
    "            t = 'inflation' + ' '+ loc_price.market.unique()\n",
    "            \n",
    "            df  = df[df['adm2_name']== adm2 ]\n",
    "            \n",
    "            df2 = df.groupby(['year', 'month','adm2_name'])[t].mean()\n",
    "            \n",
    "            df2.to_csv(filee)"
   ]
  },
  {
   "cell_type": "markdown",
   "id": "7c9ea743",
   "metadata": {},
   "source": [
    "# Average inflation in each adm2"
   ]
  },
  {
   "cell_type": "code",
   "execution_count": null,
   "id": "f536820e",
   "metadata": {},
   "outputs": [],
   "source": [
    "for file in os.listdir(os.getcwd()):\n",
    "    for  y in ad2:\n",
    "        filee = path + y +' '+'inf_month'+ '.csv'#use this to save in desired folder with desired name \n",
    "        \n",
    "        if file.endswith( y + '.csv'):\n",
    "            \n",
    "            dff = pd.read_csv(file)\n",
    "   \n",
    "            dff['mean'] = dff.iloc[:, 3:].mean(axis=1) #as in the created dataframes from forth column there will be markets and their prices so we need to start getting avg from it \n",
    "            \n",
    "            \n",
    "            \n",
    "        \n",
    "            dff.to_csv(filee) #now we have one dataframe as \"dff\" which has average amount of inflation in each admin2   "
   ]
  },
  {
   "cell_type": "markdown",
   "id": "d2369701",
   "metadata": {},
   "source": [
    "# Merging conflict data and inflation data"
   ]
  },
  {
   "cell_type": "code",
   "execution_count": null,
   "id": "954a312c",
   "metadata": {},
   "outputs": [],
   "source": [
    "# first, loading inflation data,  GED and ACLED data which intersected with gaul via ARcgis and all of them has HA0 and IPC code\n",
    "\n",
    "ged = pd.read_csv('GED_CS_HA_inf_final.csv')\n",
    "acled = pd.read_csv('ACLED_CS_HA_inf.csv')\n",
    "inflation = pd.read_csv('all_admins_f.csv')"
   ]
  },
  {
   "cell_type": "code",
   "execution_count": null,
   "id": "56aeeed0",
   "metadata": {},
   "outputs": [],
   "source": [
    "#first, merge GED and inflation \n",
    "\n",
    "merg_ged = pd.merge(ged,inflation, on=['Year', 'Month', 'adm0','adm1','adm2','Fatalities_GED','number_event_GED'], how='left' )"
   ]
  },
  {
   "cell_type": "code",
   "execution_count": null,
   "id": "07a14345",
   "metadata": {},
   "outputs": [],
   "source": [
    "# then merge them with ACLED data\n",
    "merg_ged_acled = pd.merge(acled,merg_ged, on=['Year', 'Month', 'adm0','adm1','adm2','Fatalities_GED','number_event_GED'], how='left' )"
   ]
  },
  {
   "cell_type": "code",
   "execution_count": null,
   "id": "188e9bc6",
   "metadata": {},
   "outputs": [],
   "source": []
  },
  {
   "cell_type": "code",
   "execution_count": null,
   "id": "09d52af5",
   "metadata": {},
   "outputs": [],
   "source": []
  },
  {
   "cell_type": "code",
   "execution_count": null,
   "id": "6698c347",
   "metadata": {},
   "outputs": [],
   "source": []
  }
 ],
 "metadata": {
  "kernelspec": {
   "display_name": "Python 3 (ipykernel)",
   "language": "python",
   "name": "python3"
  },
  "language_info": {
   "codemirror_mode": {
    "name": "ipython",
    "version": 3
   },
   "file_extension": ".py",
   "mimetype": "text/x-python",
   "name": "python",
   "nbconvert_exporter": "python",
   "pygments_lexer": "ipython3",
   "version": "3.10.4"
  }
 },
 "nbformat": 4,
 "nbformat_minor": 5
}
