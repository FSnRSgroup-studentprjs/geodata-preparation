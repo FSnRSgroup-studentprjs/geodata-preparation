{
 "cells": [
  {
   "cell_type": "markdown",
   "metadata": {},
   "source": [
    "# Monthly aggregation"
   ]
  },
  {
   "cell_type": "code",
   "execution_count": 19,
   "metadata": {},
   "outputs": [
    {
     "name": "stderr",
     "output_type": "stream",
     "text": [
      "C:\\Users\\ASUS\\AppData\\Local\\Temp\\ipykernel_15144\\3783668605.py:9: FutureWarning: The pandas.datetime class is deprecated and will be removed from pandas in a future version. Import from datetime module instead.\n",
      "  d_parser = lambda x: pd.datetime.strptime(x, '%d %B %Y')\n"
     ]
    }
   ],
   "source": [
    "import pandas as pd\n",
    "import numpy as np\n",
    "import glob\n",
    "import os\n",
    "from datetime import datetime\n",
    "from matplotlib import pyplot as plt\n",
    "\n",
    "\n",
    "df_ged =  pd.read_csv('GED_Gaul.csv', encoding='latin-1')\n",
    "\n",
    "d_parser = lambda x: pd.datetime.strptime(x, '%d %B %Y')\n",
    "df_acld = pd.read_csv(\"AC_gaul.csv\", parse_dates = ['event_date'], date_parser = d_parser, encoding='latin-1' )"
   ]
  },
  {
   "cell_type": "code",
   "execution_count": 21,
   "metadata": {},
   "outputs": [],
   "source": [
    "Country_list=['Algeria','Angola','Burkina Faso','Burundi','Cameroon','Central African Republic','Chad',\n",
    "            'Congo','Djibouti','Eritrea','Ethiopia','Gambia','Ghana','Guinea',\n",
    "            'Guinea-Bissau','Kenya','Liberia','Libya','Algeria',\n",
    "            'Mauritania','Morocco','Mozambique','Namibia','Niger','Nigeria','Rwanda','Senegal','Sierra Leone',\n",
    "            'Mali','Somalia','South Africa','South Sudan','Sudan','Togo','Tunisia','Uganda','Zambia','Zimbabwe (Rhodesia)']\n",
    "\n",
    "df_ged_afc = df_ged[df_ged.adm0_name.isin(Country_list)]"
   ]
  },
  {
   "cell_type": "code",
   "execution_count": 22,
   "metadata": {},
   "outputs": [
    {
     "name": "stderr",
     "output_type": "stream",
     "text": [
      "C:\\Users\\ASUS\\AppData\\Local\\Temp\\ipykernel_15144\\1454417902.py:1: SettingWithCopyWarning: \n",
      "A value is trying to be set on a copy of a slice from a DataFrame\n",
      "\n",
      "See the caveats in the documentation: https://pandas.pydata.org/pandas-docs/stable/user_guide/indexing.html#returning-a-view-versus-a-copy\n",
      "  df_ged_afc.rename(columns = {'adm0_name':'adm0', 'adm1_name': 'adm1', 'adm2_name': 'adm2'}, inplace= True)\n"
     ]
    }
   ],
   "source": [
    "df_ged_afc.rename(columns = {'adm0_name':'adm0', 'adm1_name': 'adm1', 'adm2_name': 'adm2'}, inplace= True)\n",
    "\n"
   ]
  },
  {
   "cell_type": "code",
   "execution_count": 23,
   "metadata": {},
   "outputs": [],
   "source": [
    "df_ged_afc.columns\n",
    "df_ged_afc = df_ged_afc.drop(['Unnamed: 0', 'Unnamed: 1', 'Unnamed: 2', 'Unnamed: 20', 'Unnamed: 21', 'Unnamed: 22', 'Unnamed: 23',\n",
    "            'Unnamed: 24','Unnamed: 26', 'Unnamed: 27','Unnamed: 61', 'Unnamed: 62', 'Unnamed: 63'], axis=1)\n",
    "\n",
    "df_ged_afc['date_start'].str.split('-', expand=True)\n",
    "df_ged_afc[['year','month','day']]= df_ged_afc['date_start'].str.split('-', expand=True)\n"
   ]
  },
  {
   "cell_type": "code",
   "execution_count": 28,
   "metadata": {},
   "outputs": [],
   "source": [
    "df_ged_afc[\"number_event\"] = np.where(df_ged_afc[\"best\"] >0 , 1, 0)\n",
    "\n"
   ]
  },
  {
   "cell_type": "code",
   "execution_count": null,
   "metadata": {},
   "outputs": [],
   "source": []
  },
  {
   "cell_type": "code",
   "execution_count": null,
   "metadata": {},
   "outputs": [],
   "source": []
  },
  {
   "cell_type": "code",
   "execution_count": 37,
   "metadata": {},
   "outputs": [],
   "source": [
    "\n",
    "df_acld.rename(columns = {'adm0_name':'adm0', 'adm1_name': 'adm1', 'adm2_name': 'adm2'}, inplace= True)\n",
    "df_acld['month'] = df_acld['event_date'].dt.month\n",
    "\n",
    "df_acld[\"number_event\"] = np.where(df_acld[\"fatalities\"] >0 , 1, 0)\n",
    "\n",
    "\n",
    "df_acld_agg = df_acld.groupby(['year','month','adm0','adm1', 'adm2', 'latitude','longitude']).agg({'fatalities':['sum'], 'number_event':['sum']})\n"
   ]
  },
  {
   "cell_type": "code",
   "execution_count": 39,
   "metadata": {},
   "outputs": [],
   "source": [
    "df_acld_agg.to_csv(r'C:\\Users\\ASUS\\Desktop\\prak\\ACLED_monthly_event.csv')"
   ]
  },
  {
   "cell_type": "code",
   "execution_count": 32,
   "metadata": {},
   "outputs": [],
   "source": [
    "agg_ged = df_ged_afc.groupby(['year','month','adm0','adm1', 'adm2', 'latitude','longitude']).agg({'best':['sum'], 'number_event':['sum']})\n",
    "#agg_ged.to_csv(r'C:\\Users\\ASUS\\Desktop\\WHK\\ged_acld_gaul\\GED_monthly.csv')\n",
    "agg_ged.to_csv(r'C:\\Users\\ASUS\\Desktop\\prak\\GED_monthly_event.csv')"
   ]
  },
  {
   "cell_type": "code",
   "execution_count": null,
   "metadata": {},
   "outputs": [],
   "source": []
  },
  {
   "cell_type": "code",
   "execution_count": null,
   "metadata": {},
   "outputs": [],
   "source": []
  },
  {
   "cell_type": "code",
   "execution_count": null,
   "metadata": {},
   "outputs": [],
   "source": []
  },
  {
   "cell_type": "code",
   "execution_count": 64,
   "metadata": {},
   "outputs": [],
   "source": [
    "\n",
    "#f_data_list=['Africa']\n",
    "#f_african = f[f.region.isin(f_data_list)]\n"
   ]
  },
  {
   "cell_type": "markdown",
   "metadata": {},
   "source": [
    "# 3mounth aggregation "
   ]
  },
  {
   "cell_type": "code",
   "execution_count": 243,
   "metadata": {},
   "outputs": [
    {
     "name": "stderr",
     "output_type": "stream",
     "text": [
      "C:\\Users\\ASUS\\AppData\\Local\\Temp\\ipykernel_14352\\3210266034.py:1: DtypeWarning: Columns (0,1,5,6,7) have mixed types. Specify dtype option on import or set low_memory=False.\n",
      "  dff_ged = pd.read_csv('GED_monthly.csv')\n"
     ]
    },
    {
     "data": {
      "text/html": [
       "<div>\n",
       "<style scoped>\n",
       "    .dataframe tbody tr th:only-of-type {\n",
       "        vertical-align: middle;\n",
       "    }\n",
       "\n",
       "    .dataframe tbody tr th {\n",
       "        vertical-align: top;\n",
       "    }\n",
       "\n",
       "    .dataframe thead th {\n",
       "        text-align: right;\n",
       "    }\n",
       "</style>\n",
       "<table border=\"1\" class=\"dataframe\">\n",
       "  <thead>\n",
       "    <tr style=\"text-align: right;\">\n",
       "      <th></th>\n",
       "      <th>year</th>\n",
       "      <th>month</th>\n",
       "      <th>adm0</th>\n",
       "      <th>adm1</th>\n",
       "      <th>adm2</th>\n",
       "      <th>latitude</th>\n",
       "      <th>longitude</th>\n",
       "      <th>best</th>\n",
       "    </tr>\n",
       "  </thead>\n",
       "  <tbody>\n",
       "    <tr>\n",
       "      <th>2</th>\n",
       "      <td>1989</td>\n",
       "      <td>01</td>\n",
       "      <td>Afghanistan</td>\n",
       "      <td>Baghlan</td>\n",
       "      <td>Khenjan</td>\n",
       "      <td>35.315833</td>\n",
       "      <td>69.038889</td>\n",
       "      <td>600</td>\n",
       "    </tr>\n",
       "    <tr>\n",
       "      <th>3</th>\n",
       "      <td>1989</td>\n",
       "      <td>01</td>\n",
       "      <td>Afghanistan</td>\n",
       "      <td>Baghlan</td>\n",
       "      <td>Khenjan</td>\n",
       "      <td>35.31603</td>\n",
       "      <td>69.03871</td>\n",
       "      <td>70</td>\n",
       "    </tr>\n",
       "    <tr>\n",
       "      <th>4</th>\n",
       "      <td>1989</td>\n",
       "      <td>01</td>\n",
       "      <td>Afghanistan</td>\n",
       "      <td>Hilmand</td>\n",
       "      <td>Baghran</td>\n",
       "      <td>33.0</td>\n",
       "      <td>65.0</td>\n",
       "      <td>21</td>\n",
       "    </tr>\n",
       "    <tr>\n",
       "      <th>5</th>\n",
       "      <td>1989</td>\n",
       "      <td>01</td>\n",
       "      <td>Afghanistan</td>\n",
       "      <td>Kabul</td>\n",
       "      <td>Kabul</td>\n",
       "      <td>34.531094</td>\n",
       "      <td>69.162796</td>\n",
       "      <td>2</td>\n",
       "    </tr>\n",
       "    <tr>\n",
       "      <th>6</th>\n",
       "      <td>1989</td>\n",
       "      <td>01</td>\n",
       "      <td>Afghanistan</td>\n",
       "      <td>Kandahar</td>\n",
       "      <td>Kandahar</td>\n",
       "      <td>31.611795</td>\n",
       "      <td>65.705795</td>\n",
       "      <td>1</td>\n",
       "    </tr>\n",
       "  </tbody>\n",
       "</table>\n",
       "</div>"
      ],
      "text/plain": [
       "   year month         adm0      adm1      adm2   latitude  longitude best\n",
       "2  1989    01  Afghanistan   Baghlan   Khenjan  35.315833  69.038889  600\n",
       "3  1989    01  Afghanistan   Baghlan   Khenjan   35.31603   69.03871   70\n",
       "4  1989    01  Afghanistan   Hilmand   Baghran       33.0       65.0   21\n",
       "5  1989    01  Afghanistan     Kabul     Kabul  34.531094  69.162796    2\n",
       "6  1989    01  Afghanistan  Kandahar  Kandahar  31.611795  65.705795    1"
      ]
     },
     "execution_count": 243,
     "metadata": {},
     "output_type": "execute_result"
    }
   ],
   "source": [
    "dff_ged = pd.read_csv('GED_monthly.csv')\n",
    "\n",
    "dff_ged.drop([0,1], axis=0, inplace=True)\n",
    "dff_ged.rename(columns = {'Unnamed: 0':'year', 'Unnamed: 1' :'month', 'Unnamed: 2': 'adm0', 'Unnamed: 3': 'adm1',\n",
    "                       'Unnamed: 4': 'adm2', 'Unnamed: 5': 'latitude', 'Unnamed: 6': 'longitude'}, inplace= True)\n",
    "\n",
    "dff_ged.head()"
   ]
  },
  {
   "cell_type": "code",
   "execution_count": 130,
   "metadata": {},
   "outputs": [
    {
     "name": "stderr",
     "output_type": "stream",
     "text": [
      "C:\\Users\\ASUS\\AppData\\Local\\Temp\\ipykernel_14352\\3454246371.py:1: DtypeWarning: Columns (0,1,5,6,7) have mixed types. Specify dtype option on import or set low_memory=False.\n",
      "  df_ac = pd.read_csv('ACLED_monthly.csv')\n"
     ]
    },
    {
     "data": {
      "text/plain": [
       "<bound method DataFrame.info of         year month      adm0                adm1          adm2 latitude  \\\n",
       "2       2000     1   Algeria               Alger         Hydra  36.7525   \n",
       "3       2000     1   Algeria               Batna         Arris  35.2575   \n",
       "4       2000     1   Algeria               Chlef         Chlef  36.1653   \n",
       "5       2000     1   Algeria         Constantine   Constantine  36.2769   \n",
       "6       2000     1   Algeria             El-Tarf  Ain El Assel  36.8089   \n",
       "...      ...   ...       ...                 ...           ...      ...   \n",
       "152752  2022     7    Uganda              Mukono        Mukono   0.3832   \n",
       "152753  2022     7    Uganda              Wakiso      Kyadondo   0.4344   \n",
       "152754  2022     7  Zimbabwe              Harare        Harare -17.8277   \n",
       "152755  2022     7  Zimbabwe  Matabeleland South        Matobo -20.4166   \n",
       "152756  2022     7  Zimbabwe            Midlands         Gweru   -19.45   \n",
       "\n",
       "       longitude fatalities  \n",
       "2          3.042         12  \n",
       "3         6.3511         22  \n",
       "4         1.3345          3  \n",
       "5         6.6344          0  \n",
       "6         8.4569          8  \n",
       "...          ...        ...  \n",
       "152752   32.7444          0  \n",
       "152753   32.6241          1  \n",
       "152754   31.0534          0  \n",
       "152755   28.4833          0  \n",
       "152756     29.82          0  \n",
       "\n",
       "[152755 rows x 8 columns]>"
      ]
     },
     "execution_count": 130,
     "metadata": {},
     "output_type": "execute_result"
    }
   ],
   "source": [
    "df_ac = pd.read_csv('ACLED_monthly.csv')\n",
    "\n",
    "df_ac.drop([0,1], axis=0, inplace=True)\n",
    "df_ac.rename(columns = {'Unnamed: 0':'year', 'Unnamed: 1' :'month', 'Unnamed: 2': 'adm0', 'Unnamed: 3': 'adm1',\n",
    "                       'Unnamed: 4': 'adm2', 'Unnamed: 5': 'latitude', 'Unnamed: 6': 'longitude'}, inplace= True)\n",
    "\n",
    "\n",
    "df_ac.info"
   ]
  },
  {
   "cell_type": "code",
   "execution_count": 242,
   "metadata": {},
   "outputs": [],
   "source": [
    "path =r\"C:\\Users\\ASUS\\Desktop\\tamrin\\ \"\n",
    "\n",
    "path2 =r\"C:\\Users\\ASUS\\Desktop\\tamrin_ged\\ \"\n",
    "\n"
   ]
  },
  {
   "cell_type": "code",
   "execution_count": 1,
   "metadata": {},
   "outputs": [],
   "source": [
    "df_ged_afc.head()"
   ]
  },
  {
   "cell_type": "code",
   "execution_count": 319,
   "metadata": {},
   "outputs": [
    {
     "ename": "KeyError",
     "evalue": "0",
     "output_type": "error",
     "traceback": [
      "\u001b[1;31m---------------------------------------------------------------------------\u001b[0m",
      "\u001b[1;31mValueError\u001b[0m                                Traceback (most recent call last)",
      "File \u001b[1;32m~\\anaconda3\\envs\\plotlyenv\\lib\\site-packages\\pandas\\core\\indexes\\range.py:385\u001b[0m, in \u001b[0;36mRangeIndex.get_loc\u001b[1;34m(self, key, method, tolerance)\u001b[0m\n\u001b[0;32m    384\u001b[0m \u001b[38;5;28;01mtry\u001b[39;00m:\n\u001b[1;32m--> 385\u001b[0m     \u001b[38;5;28;01mreturn\u001b[39;00m \u001b[38;5;28;43mself\u001b[39;49m\u001b[38;5;241;43m.\u001b[39;49m\u001b[43m_range\u001b[49m\u001b[38;5;241;43m.\u001b[39;49m\u001b[43mindex\u001b[49m\u001b[43m(\u001b[49m\u001b[43mnew_key\u001b[49m\u001b[43m)\u001b[49m\n\u001b[0;32m    386\u001b[0m \u001b[38;5;28;01mexcept\u001b[39;00m \u001b[38;5;167;01mValueError\u001b[39;00m \u001b[38;5;28;01mas\u001b[39;00m err:\n",
      "\u001b[1;31mValueError\u001b[0m: 0 is not in range",
      "\nThe above exception was the direct cause of the following exception:\n",
      "\u001b[1;31mKeyError\u001b[0m                                  Traceback (most recent call last)",
      "Input \u001b[1;32mIn [319]\u001b[0m, in \u001b[0;36m<cell line: 1>\u001b[1;34m()\u001b[0m\n\u001b[0;32m     17\u001b[0m best \u001b[38;5;241m=\u001b[39m best\u001b[38;5;241m.\u001b[39mastype(\u001b[38;5;28mfloat\u001b[39m)\n\u001b[0;32m     18\u001b[0m best \u001b[38;5;241m=\u001b[39m best\u001b[38;5;241m.\u001b[39mreset_index(drop\u001b[38;5;241m=\u001b[39m\u001b[38;5;28;01mTrue\u001b[39;00m)\n\u001b[1;32m---> 20\u001b[0m ff_3m \u001b[38;5;241m=\u001b[39m \u001b[43magg\u001b[49m\u001b[43m(\u001b[49m\u001b[43mbest\u001b[49m\u001b[43m)\u001b[49m\n\u001b[0;32m     21\u001b[0m df_adm0_agg_ged[\u001b[38;5;124m'\u001b[39m\u001b[38;5;124m3m\u001b[39m\u001b[38;5;124m'\u001b[39m] \u001b[38;5;241m=\u001b[39m ff_3m\n\u001b[0;32m     22\u001b[0m df_adm0_agg_ged\u001b[38;5;241m.\u001b[39mto_csv(file_name2)\n",
      "Input \u001b[1;32mIn [210]\u001b[0m, in \u001b[0;36magg\u001b[1;34m(x)\u001b[0m\n\u001b[0;32m      2\u001b[0m u \u001b[38;5;241m=\u001b[39m \u001b[38;5;28mlen\u001b[39m(x)\n\u001b[0;32m      3\u001b[0m f \u001b[38;5;241m=\u001b[39m []\n\u001b[1;32m----> 4\u001b[0m f\u001b[38;5;241m.\u001b[39mappend(\u001b[43mx\u001b[49m\u001b[43m[\u001b[49m\u001b[38;5;241;43m0\u001b[39;49m\u001b[43m]\u001b[49m)\n\u001b[0;32m      5\u001b[0m f\u001b[38;5;241m.\u001b[39mappend(x[\u001b[38;5;241m1\u001b[39m])\n\u001b[0;32m      9\u001b[0m \u001b[38;5;28;01mfor\u001b[39;00m j \u001b[38;5;129;01min\u001b[39;00m \u001b[38;5;28mrange\u001b[39m(\u001b[38;5;241m2\u001b[39m,u):\n",
      "File \u001b[1;32m~\\anaconda3\\envs\\plotlyenv\\lib\\site-packages\\pandas\\core\\series.py:958\u001b[0m, in \u001b[0;36mSeries.__getitem__\u001b[1;34m(self, key)\u001b[0m\n\u001b[0;32m    955\u001b[0m     \u001b[38;5;28;01mreturn\u001b[39;00m \u001b[38;5;28mself\u001b[39m\u001b[38;5;241m.\u001b[39m_values[key]\n\u001b[0;32m    957\u001b[0m \u001b[38;5;28;01melif\u001b[39;00m key_is_scalar:\n\u001b[1;32m--> 958\u001b[0m     \u001b[38;5;28;01mreturn\u001b[39;00m \u001b[38;5;28;43mself\u001b[39;49m\u001b[38;5;241;43m.\u001b[39;49m\u001b[43m_get_value\u001b[49m\u001b[43m(\u001b[49m\u001b[43mkey\u001b[49m\u001b[43m)\u001b[49m\n\u001b[0;32m    960\u001b[0m \u001b[38;5;28;01mif\u001b[39;00m is_hashable(key):\n\u001b[0;32m    961\u001b[0m     \u001b[38;5;66;03m# Otherwise index.get_value will raise InvalidIndexError\u001b[39;00m\n\u001b[0;32m    962\u001b[0m     \u001b[38;5;28;01mtry\u001b[39;00m:\n\u001b[0;32m    963\u001b[0m         \u001b[38;5;66;03m# For labels that don't resolve as scalars like tuples and frozensets\u001b[39;00m\n",
      "File \u001b[1;32m~\\anaconda3\\envs\\plotlyenv\\lib\\site-packages\\pandas\\core\\series.py:1069\u001b[0m, in \u001b[0;36mSeries._get_value\u001b[1;34m(self, label, takeable)\u001b[0m\n\u001b[0;32m   1066\u001b[0m     \u001b[38;5;28;01mreturn\u001b[39;00m \u001b[38;5;28mself\u001b[39m\u001b[38;5;241m.\u001b[39m_values[label]\n\u001b[0;32m   1068\u001b[0m \u001b[38;5;66;03m# Similar to Index.get_value, but we do not fall back to positional\u001b[39;00m\n\u001b[1;32m-> 1069\u001b[0m loc \u001b[38;5;241m=\u001b[39m \u001b[38;5;28;43mself\u001b[39;49m\u001b[38;5;241;43m.\u001b[39;49m\u001b[43mindex\u001b[49m\u001b[38;5;241;43m.\u001b[39;49m\u001b[43mget_loc\u001b[49m\u001b[43m(\u001b[49m\u001b[43mlabel\u001b[49m\u001b[43m)\u001b[49m\n\u001b[0;32m   1070\u001b[0m \u001b[38;5;28;01mreturn\u001b[39;00m \u001b[38;5;28mself\u001b[39m\u001b[38;5;241m.\u001b[39mindex\u001b[38;5;241m.\u001b[39m_get_values_for_loc(\u001b[38;5;28mself\u001b[39m, loc, label)\n",
      "File \u001b[1;32m~\\anaconda3\\envs\\plotlyenv\\lib\\site-packages\\pandas\\core\\indexes\\range.py:387\u001b[0m, in \u001b[0;36mRangeIndex.get_loc\u001b[1;34m(self, key, method, tolerance)\u001b[0m\n\u001b[0;32m    385\u001b[0m         \u001b[38;5;28;01mreturn\u001b[39;00m \u001b[38;5;28mself\u001b[39m\u001b[38;5;241m.\u001b[39m_range\u001b[38;5;241m.\u001b[39mindex(new_key)\n\u001b[0;32m    386\u001b[0m     \u001b[38;5;28;01mexcept\u001b[39;00m \u001b[38;5;167;01mValueError\u001b[39;00m \u001b[38;5;28;01mas\u001b[39;00m err:\n\u001b[1;32m--> 387\u001b[0m         \u001b[38;5;28;01mraise\u001b[39;00m \u001b[38;5;167;01mKeyError\u001b[39;00m(key) \u001b[38;5;28;01mfrom\u001b[39;00m \u001b[38;5;21;01merr\u001b[39;00m\n\u001b[0;32m    388\u001b[0m \u001b[38;5;28mself\u001b[39m\u001b[38;5;241m.\u001b[39m_check_indexing_error(key)\n\u001b[0;32m    389\u001b[0m \u001b[38;5;28;01mraise\u001b[39;00m \u001b[38;5;167;01mKeyError\u001b[39;00m(key)\n",
      "\u001b[1;31mKeyError\u001b[0m: 0"
     ]
    }
   ],
   "source": [
    "for i in Country_list:\n",
    "    file2 = path2 + i +'pre_agg'+'.csv'\n",
    "    file2 = file2.replace(\"?\", \"-\")\n",
    "    file_name2 = path2 + i +'.csv'\n",
    "    file_name2 = file_name2.replace(\"?\", \"-\")\n",
    "    \n",
    "    df_adm_ged = df_ged_afc[df_ged_afc['adm0']==i]\n",
    "    df_adm_ged = df_adm_ged.reset_index(drop=True)\n",
    "    df_adm_ag_ged=df_adm_ged.groupby(['adm0','year','month']).agg({'best':['sum']})\n",
    "    \n",
    "    df_adm_ag_ged.to_csv(file2)\n",
    "    \n",
    "    df_adm0_agg_ged = pd.read_csv(file2)\n",
    "    df_adm0_agg_ged.drop([0,1], axis=0, inplace=True)\n",
    "    df_adm0_agg_ged.rename(columns = {'Unnamed: 0':'country', 'Unnamed: 1' :'year', 'Unnamed: 2': 'month'}, inplace= True)\n",
    "    best= df_adm0_agg_ged.best\n",
    "    best = best.astype(float)\n",
    "    best = best.reset_index(drop=True)\n",
    "    \n",
    "    ff_3m = agg(best)\n",
    "    df_adm0_agg_ged['3m'] = ff_3m\n",
    "    df_adm0_agg_ged.to_csv(file_name2)\n",
    "    \n",
    "    "
   ]
  },
  {
   "cell_type": "code",
   "execution_count": 268,
   "metadata": {},
   "outputs": [
    {
     "ename": "KeyError",
     "evalue": "'adm0'",
     "output_type": "error",
     "traceback": [
      "\u001b[1;31m---------------------------------------------------------------------------\u001b[0m",
      "\u001b[1;31mKeyError\u001b[0m                                  Traceback (most recent call last)",
      "File \u001b[1;32m~\\anaconda3\\envs\\plotlyenv\\lib\\site-packages\\pandas\\core\\indexes\\base.py:3621\u001b[0m, in \u001b[0;36mIndex.get_loc\u001b[1;34m(self, key, method, tolerance)\u001b[0m\n\u001b[0;32m   3620\u001b[0m \u001b[38;5;28;01mtry\u001b[39;00m:\n\u001b[1;32m-> 3621\u001b[0m     \u001b[38;5;28;01mreturn\u001b[39;00m \u001b[38;5;28;43mself\u001b[39;49m\u001b[38;5;241;43m.\u001b[39;49m\u001b[43m_engine\u001b[49m\u001b[38;5;241;43m.\u001b[39;49m\u001b[43mget_loc\u001b[49m\u001b[43m(\u001b[49m\u001b[43mcasted_key\u001b[49m\u001b[43m)\u001b[49m\n\u001b[0;32m   3622\u001b[0m \u001b[38;5;28;01mexcept\u001b[39;00m \u001b[38;5;167;01mKeyError\u001b[39;00m \u001b[38;5;28;01mas\u001b[39;00m err:\n",
      "File \u001b[1;32m~\\anaconda3\\envs\\plotlyenv\\lib\\site-packages\\pandas\\_libs\\index.pyx:136\u001b[0m, in \u001b[0;36mpandas._libs.index.IndexEngine.get_loc\u001b[1;34m()\u001b[0m\n",
      "File \u001b[1;32m~\\anaconda3\\envs\\plotlyenv\\lib\\site-packages\\pandas\\_libs\\index.pyx:163\u001b[0m, in \u001b[0;36mpandas._libs.index.IndexEngine.get_loc\u001b[1;34m()\u001b[0m\n",
      "File \u001b[1;32mpandas\\_libs\\hashtable_class_helper.pxi:5198\u001b[0m, in \u001b[0;36mpandas._libs.hashtable.PyObjectHashTable.get_item\u001b[1;34m()\u001b[0m\n",
      "File \u001b[1;32mpandas\\_libs\\hashtable_class_helper.pxi:5206\u001b[0m, in \u001b[0;36mpandas._libs.hashtable.PyObjectHashTable.get_item\u001b[1;34m()\u001b[0m\n",
      "\u001b[1;31mKeyError\u001b[0m: 'adm0'",
      "\nThe above exception was the direct cause of the following exception:\n",
      "\u001b[1;31mKeyError\u001b[0m                                  Traceback (most recent call last)",
      "Input \u001b[1;32mIn [268]\u001b[0m, in \u001b[0;36m<cell line: 1>\u001b[1;34m()\u001b[0m\n\u001b[0;32m      4\u001b[0m file_name \u001b[38;5;241m=\u001b[39m path \u001b[38;5;241m+\u001b[39m i \u001b[38;5;241m+\u001b[39m\u001b[38;5;124m'\u001b[39m\u001b[38;5;124m.csv\u001b[39m\u001b[38;5;124m'\u001b[39m\n\u001b[0;32m      5\u001b[0m file_name \u001b[38;5;241m=\u001b[39m file_name\u001b[38;5;241m.\u001b[39mreplace(\u001b[38;5;124m\"\u001b[39m\u001b[38;5;124m?\u001b[39m\u001b[38;5;124m\"\u001b[39m, \u001b[38;5;124m\"\u001b[39m\u001b[38;5;124m-\u001b[39m\u001b[38;5;124m\"\u001b[39m)\n\u001b[1;32m----> 7\u001b[0m df_adm \u001b[38;5;241m=\u001b[39m df_acld[\u001b[43mdf_acld\u001b[49m\u001b[43m[\u001b[49m\u001b[38;5;124;43m'\u001b[39;49m\u001b[38;5;124;43madm0\u001b[39;49m\u001b[38;5;124;43m'\u001b[39;49m\u001b[43m]\u001b[49m\u001b[38;5;241m==\u001b[39mi]\n\u001b[0;32m      8\u001b[0m df_adm \u001b[38;5;241m=\u001b[39m df_adm\u001b[38;5;241m.\u001b[39mreset_index(drop\u001b[38;5;241m=\u001b[39m\u001b[38;5;28;01mTrue\u001b[39;00m)\n\u001b[0;32m      9\u001b[0m df_adm_ag\u001b[38;5;241m=\u001b[39mdf_adm\u001b[38;5;241m.\u001b[39mgroupby([\u001b[38;5;124m'\u001b[39m\u001b[38;5;124madm0\u001b[39m\u001b[38;5;124m'\u001b[39m,\u001b[38;5;124m'\u001b[39m\u001b[38;5;124myear\u001b[39m\u001b[38;5;124m'\u001b[39m,\u001b[38;5;124m'\u001b[39m\u001b[38;5;124mmonth\u001b[39m\u001b[38;5;124m'\u001b[39m])\u001b[38;5;241m.\u001b[39magg({\u001b[38;5;124m'\u001b[39m\u001b[38;5;124mfatalities\u001b[39m\u001b[38;5;124m'\u001b[39m:[\u001b[38;5;124m'\u001b[39m\u001b[38;5;124msum\u001b[39m\u001b[38;5;124m'\u001b[39m]})\n",
      "File \u001b[1;32m~\\anaconda3\\envs\\plotlyenv\\lib\\site-packages\\pandas\\core\\frame.py:3505\u001b[0m, in \u001b[0;36mDataFrame.__getitem__\u001b[1;34m(self, key)\u001b[0m\n\u001b[0;32m   3503\u001b[0m \u001b[38;5;28;01mif\u001b[39;00m \u001b[38;5;28mself\u001b[39m\u001b[38;5;241m.\u001b[39mcolumns\u001b[38;5;241m.\u001b[39mnlevels \u001b[38;5;241m>\u001b[39m \u001b[38;5;241m1\u001b[39m:\n\u001b[0;32m   3504\u001b[0m     \u001b[38;5;28;01mreturn\u001b[39;00m \u001b[38;5;28mself\u001b[39m\u001b[38;5;241m.\u001b[39m_getitem_multilevel(key)\n\u001b[1;32m-> 3505\u001b[0m indexer \u001b[38;5;241m=\u001b[39m \u001b[38;5;28;43mself\u001b[39;49m\u001b[38;5;241;43m.\u001b[39;49m\u001b[43mcolumns\u001b[49m\u001b[38;5;241;43m.\u001b[39;49m\u001b[43mget_loc\u001b[49m\u001b[43m(\u001b[49m\u001b[43mkey\u001b[49m\u001b[43m)\u001b[49m\n\u001b[0;32m   3506\u001b[0m \u001b[38;5;28;01mif\u001b[39;00m is_integer(indexer):\n\u001b[0;32m   3507\u001b[0m     indexer \u001b[38;5;241m=\u001b[39m [indexer]\n",
      "File \u001b[1;32m~\\anaconda3\\envs\\plotlyenv\\lib\\site-packages\\pandas\\core\\indexes\\base.py:3623\u001b[0m, in \u001b[0;36mIndex.get_loc\u001b[1;34m(self, key, method, tolerance)\u001b[0m\n\u001b[0;32m   3621\u001b[0m     \u001b[38;5;28;01mreturn\u001b[39;00m \u001b[38;5;28mself\u001b[39m\u001b[38;5;241m.\u001b[39m_engine\u001b[38;5;241m.\u001b[39mget_loc(casted_key)\n\u001b[0;32m   3622\u001b[0m \u001b[38;5;28;01mexcept\u001b[39;00m \u001b[38;5;167;01mKeyError\u001b[39;00m \u001b[38;5;28;01mas\u001b[39;00m err:\n\u001b[1;32m-> 3623\u001b[0m     \u001b[38;5;28;01mraise\u001b[39;00m \u001b[38;5;167;01mKeyError\u001b[39;00m(key) \u001b[38;5;28;01mfrom\u001b[39;00m \u001b[38;5;21;01merr\u001b[39;00m\n\u001b[0;32m   3624\u001b[0m \u001b[38;5;28;01mexcept\u001b[39;00m \u001b[38;5;167;01mTypeError\u001b[39;00m:\n\u001b[0;32m   3625\u001b[0m     \u001b[38;5;66;03m# If we have a listlike key, _check_indexing_error will raise\u001b[39;00m\n\u001b[0;32m   3626\u001b[0m     \u001b[38;5;66;03m#  InvalidIndexError. Otherwise we fall through and re-raise\u001b[39;00m\n\u001b[0;32m   3627\u001b[0m     \u001b[38;5;66;03m#  the TypeError.\u001b[39;00m\n\u001b[0;32m   3628\u001b[0m     \u001b[38;5;28mself\u001b[39m\u001b[38;5;241m.\u001b[39m_check_indexing_error(key)\n",
      "\u001b[1;31mKeyError\u001b[0m: 'adm0'"
     ]
    }
   ],
   "source": [
    "for i in df_ac.adm0.unique():\n",
    "    file = path + i +'pre_agg'+'.csv'\n",
    "    file = file.replace(\"?\", \"-\")\n",
    "    file_name = path + i +'.csv'\n",
    "    file_name = file_name.replace(\"?\", \"-\")\n",
    "    \n",
    "    df_adm = df_acld[df_acld['adm0']==i]\n",
    "    df_adm = df_adm.reset_index(drop=True)\n",
    "    df_adm_ag=df_adm.groupby(['adm0','year','month']).agg({'fatalities':['sum']})\n",
    "    \n",
    "    df_adm_ag.to_csv(file)\n",
    "    \n",
    "    df_adm0_agg = pd.read_csv(file)\n",
    "    df_adm0_agg.drop([0,1], axis=0, inplace=True)\n",
    "    df_adm0_agg.rename(columns = {'Unnamed: 0':'country', 'Unnamed: 1' :'year', 'Unnamed: 2': 'month'}, inplace= True)\n",
    "    fatal= df_adm0_agg.fatalities\n",
    "    fatal = fatal.astype(float)\n",
    "    fatal = fatal.reset_index(drop=True)\n",
    "    \n",
    "    \n",
    "    #u = len(fata)\n",
    "    f_3m = agg(fatal)\n",
    "    df_adm0_agg['3m'] = f_3m\n",
    "    df_adm0_agg.to_csv(file_name)\n",
    "\n",
    "    \n",
    "    \n",
    "        \n",
    "    \n",
    "\n",
    "        \n",
    "    \n",
    "\n",
    "\n"
   ]
  },
  {
   "cell_type": "code",
   "execution_count": 210,
   "metadata": {},
   "outputs": [],
   "source": [
    "def agg(x):\n",
    "    u = len(x)\n",
    "    f = []\n",
    "    f.append(x[0])\n",
    "    f.append(x[1])\n",
    "    \n",
    "    \n",
    "\n",
    "    for j in range(2,u):\n",
    "        j = int(j)\n",
    "        result= int(x[int(j)]) + int(x [int(j)-1]) + int(x [int(j)-2])\n",
    "        f.append( result)\n",
    "        \n",
    "    return(f)"
   ]
  },
  {
   "cell_type": "markdown",
   "metadata": {},
   "source": [
    "# Inflation part"
   ]
  },
  {
   "cell_type": "code",
   "execution_count": null,
   "metadata": {},
   "outputs": [],
   "source": [
    "loc_pri = pd.read_csv('match_price_loc.csv') \n",
    "ad2 = loc_pri.admin2.unique()\n",
    "df = pd.DataFrame()\n",
    "path =r\"C:\\Users\\ASUS\\Desktop\\prak\\ \" \n",
    "\n",
    "for file in os.listdir(os.getcwd()):\n",
    "    for  y in ad2:\n",
    "        filee = path + y + '.csv'\n",
    "        \n",
    "        if file.endswith( y + '.csv'):\n",
    "            \n",
    "            df = df.append(pd.read_csv(file))\n",
    "            \n",
    "            loc_pri1 = loc_pri[loc_pri['admin2']== y]\n",
    "\n",
    "            t = 'inflation' + ' '+ loc_pri1.market.unique()\n",
    "            \n",
    "            df  = df[df['adm2_name']== y ]\n",
    "            \n",
    "            df2 = df.groupby(['year', 'month','adm2_name'])[t].mean()\n",
    "            \n",
    "            df2.to_csv(filee)\n",
    "        "
   ]
  },
  {
   "cell_type": "markdown",
   "metadata": {},
   "source": [
    "# Calculate average of inflation for each month"
   ]
  },
  {
   "cell_type": "code",
   "execution_count": null,
   "metadata": {},
   "outputs": [],
   "source": [
    "for file in os.listdir(os.getcwd()):\n",
    "    for  y in ad2:\n",
    "        filee = path + y +' '+'inf_month'+ '.csv'\n",
    "        \n",
    "        if file.endswith( y + '.csv'):\n",
    "            \n",
    "            dff = pd.read_csv(file)\n",
    "            \n",
    "            dff['mean'] = dff.iloc[:, 3:].mean(axis=1)\n",
    "            \n",
    "            \n",
    "            \n",
    "            dff.to_csv(filee)"
   ]
  },
  {
   "cell_type": "markdown",
   "metadata": {},
   "source": [
    "# Merge conflict data and inflation"
   ]
  },
  {
   "cell_type": "code",
   "execution_count": null,
   "metadata": {},
   "outputs": [],
   "source": [
    "df1 = pd.read_csv('GED_CS_HA0.csv')\n",
    "\n",
    "df2 = pd.read_csv('inflation_adm2s.csv')\n",
    "\n",
    "merged = df1.merge(df2, on=['year', 'month', 'adm2_name'])\n",
    "\n",
    "merge_f = merged.sort_values(['year', 'month'])"
   ]
  }
 ],
 "metadata": {
  "kernelspec": {
   "display_name": "Python 3 (ipykernel)",
   "language": "python",
   "name": "python3"
  },
  "language_info": {
   "codemirror_mode": {
    "name": "ipython",
    "version": 3
   },
   "file_extension": ".py",
   "mimetype": "text/x-python",
   "name": "python",
   "nbconvert_exporter": "python",
   "pygments_lexer": "ipython3",
   "version": "3.10.4"
  }
 },
 "nbformat": 4,
 "nbformat_minor": 4
}
